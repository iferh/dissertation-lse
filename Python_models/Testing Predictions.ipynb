{
 "cells": [
  {
   "cell_type": "markdown",
   "metadata": {},
   "source": [
    "## (1) BALANCING METHODS\n",
    "\n",
    "### 1.1 Resampling Techniques\n",
    "\n",
    "##### Under-sampling\n",
    " 1. Random Undersampling\n",
    " 2. Neighbourhood Cleaning Rule\n",
    " 3. One Sided Selection\n",
    "\n",
    "##### Over-sampling\n",
    " 4. SMOTE (Synthetic Minority Oversampling Technique)\n",
    " 5. ADASYN\n",
    " 6. BorderSMOTE\n",
    "\n",
    "##### Hybrid-sampling\n",
    " 7. SMOTE + ENN\n",
    " 8. SMOTE + Tomek links\n",
    "\n",
    "----------------------------------------\n",
    "## (2) CLASSIFIERS\n",
    "- Logit\n",
    "- Random Forest\n",
    "- Support Vector Machines (SVM)\n",
    "- XGBoost"
   ]
  },
  {
   "cell_type": "markdown",
   "metadata": {},
   "source": [
    "# 1. IMPORT AND PREPROCESS DATA"
   ]
  },
  {
   "cell_type": "raw",
   "metadata": {},
   "source": [
    "print(df.info())"
   ]
  },
  {
   "cell_type": "markdown",
   "metadata": {},
   "source": [
    "### Import data (one hot encoding)"
   ]
  },
  {
   "cell_type": "code",
   "execution_count": 1,
   "metadata": {},
   "outputs": [
    {
     "name": "stdout",
     "output_type": "stream",
     "text": [
      "num of observations: 878540\n",
      "Dependent variable : dropout\n"
     ]
    }
   ],
   "source": [
    "import numpy as np\n",
    "import pandas as pd\n",
    "\n",
    "# Import data\n",
    "df = pd.read_csv('all_data_onehot_dwe.csv')\n",
    "# select dependent variable\n",
    "df = df.drop(columns = ['excluded', 'withdraw'])\n",
    "# Make X and y\n",
    "y = df.iloc[:,0]\n",
    "X = df.iloc[:, 1:]\n",
    "# summary of data\n",
    "print('num of observations:', len(df))\n",
    "print('Dependent variable :', df.columns.values[0])"
   ]
  },
  {
   "cell_type": "markdown",
   "metadata": {},
   "source": [
    "#### ~Subset data by institution type UNI, CFT or IP"
   ]
  },
  {
   "cell_type": "raw",
   "metadata": {},
   "source": [
    "# function to subset data by institution type\n",
    "def select_inst_type(df, inst_code=1):\n",
    "    '''0 = university, 1 = ip, 2 = cft, 3 = ip & cft'''\n",
    "    inst_type_lst = ['inst.type.university', 'inst.type.ip', 'inst.type.cft']\n",
    "    if inst_code == 3:\n",
    "        inst_type = inst_type_lst[0]\n",
    "        df = df[df[inst_type] != 1]\n",
    "        df = df.drop(columns = 'inst.type.university')\n",
    "        print('Selected inst type : inst.type ip & cft')\n",
    "    else:\n",
    "        inst_type = inst_type_lst[inst_code]\n",
    "        df = df[df[inst_type] == 1]\n",
    "        df = df.drop(columns = inst_type_lst)\n",
    "        print('Selected inst type :', inst_type)\n",
    "    return df\n",
    "\n",
    "# subset data by institution type\n",
    "df = select_inst_type(df, 0)\n",
    "# Make X and y\n",
    "y = df.iloc[:,0]\n",
    "X = df.iloc[:, 1:]\n",
    "# summary of data\n",
    "print('num of observations:', len(df))\n",
    "print('Dependent variable :', df.columns.values[0])"
   ]
  },
  {
   "cell_type": "markdown",
   "metadata": {},
   "source": [
    "### Class distribution in dataset"
   ]
  },
  {
   "cell_type": "code",
   "execution_count": 2,
   "metadata": {},
   "outputs": [
    {
     "name": "stdout",
     "output_type": "stream",
     "text": [
      "Counter({0: 666372, 1: 212168})\n",
      "ratio: 1.0 drop to 3.1 stay\n",
      "ratio: 0.3 drop to 1.0 stay\n",
      "AUC PR min: 0.179\n"
     ]
    }
   ],
   "source": [
    "from collections import Counter\n",
    "\n",
    "# summarize class distribution\n",
    "counter = Counter(y)\n",
    "print(counter)\n",
    "print('ratio: 1.0 drop to', round(counter[0]/counter[1], 1), 'stay')\n",
    "skew_pn = counter[1]/counter[0]\n",
    "print('ratio:', round(skew_pn, 1), 'drop to 1.0 stay')\n",
    "AUCPRmin = 1+((1-skew_pn)*np.log(1-skew_pn)/skew_pn)\n",
    "print('AUC PR min:', round(AUCPRmin, 3))"
   ]
  },
  {
   "cell_type": "markdown",
   "metadata": {},
   "source": [
    "### Make toy dataset to test"
   ]
  },
  {
   "cell_type": "raw",
   "metadata": {},
   "source": [
    "# Make toy dataset\n",
    "df = df.sample(frac =.1, random_state=42)\n",
    "y = df.iloc[:,0]\n",
    "X = df.iloc[:, 1:]\n",
    "# see results\n",
    "print(len(X))\n",
    "print(len(y))"
   ]
  },
  {
   "cell_type": "markdown",
   "metadata": {},
   "source": [
    "### Split into train and test sets"
   ]
  },
  {
   "cell_type": "raw",
   "metadata": {},
   "source": [
    "from sklearn.model_selection import train_test_split\n",
    "\n",
    "# split into train and test sets\n",
    "X_train, X_test, y_train, y_test = \\\n",
    "train_test_split(X, y, stratify=y, test_size=0.2, random_state=123)\n",
    "# summarize\n",
    "print('Train', X_train.shape, y_train.shape)\n",
    "print('Test', X_test.shape, y_test.shape)"
   ]
  },
  {
   "cell_type": "markdown",
   "metadata": {},
   "source": [
    "### Standardize data"
   ]
  },
  {
   "cell_type": "raw",
   "metadata": {},
   "source": [
    "from sklearn.preprocessing import scale, StandardScaler\n",
    "\n",
    "#X_scaled = scale(X)\n",
    "#X_scaled = pd.DataFrame(X_scaled)\n",
    "#X_scaled\n",
    "\n",
    "scaler = StandardScaler().fit(X)\n",
    "X_scaled = scaler.transform(X)\n",
    "X_scaled = pd.DataFrame(X_scaled, columns=X.columns.values)\n",
    "X = X_scaled\n",
    "X"
   ]
  },
  {
   "cell_type": "markdown",
   "metadata": {},
   "source": [
    "# 3. BENCHMARKING RESAMPLING METHODS WITH CROSS VALIDATION"
   ]
  },
  {
   "cell_type": "markdown",
   "metadata": {},
   "source": [
    "## 3.1 PIPELINE OF RESAMPLING METHODS"
   ]
  },
  {
   "cell_type": "code",
   "execution_count": 3,
   "metadata": {},
   "outputs": [],
   "source": [
    "from imblearn.under_sampling import RandomUnderSampler, NeighbourhoodCleaningRule, OneSidedSelection, NearMiss\n",
    "from imblearn.over_sampling import SMOTE, ADASYN, BorderlineSMOTE\n",
    "from imblearn.combine import SMOTEENN, SMOTETomek\n",
    "\n",
    "# Define Samplers to balance data\n",
    "rdm_state = 123\n",
    "samplers = [\n",
    "    ['Unbalanced', 'passthrough'],\n",
    "    ['RUS', RandomUnderSampler(random_state=rdm_state)],\n",
    "    ['NCR', NeighbourhoodCleaningRule()],\n",
    "    ['OSS', OneSidedSelection(random_state=rdm_state)],\n",
    "    ['SMOTE', SMOTE(random_state=rdm_state)],\n",
    "    ['ADASYN', ADASYN(random_state=rdm_state)],\n",
    "    ['BorderSMOTE', BorderlineSMOTE(random_state=rdm_state)],\n",
    "    ['SMOTE+ENN', SMOTEENN(random_state=rdm_state)],\n",
    "    ['SMOTE+Tomek', SMOTETomek(random_state=rdm_state)],\n",
    "]"
   ]
  },
  {
   "cell_type": "markdown",
   "metadata": {},
   "source": [
    "## 3.2 FUNCTION BENCHMARKING WITH CROSS VALIDATION"
   ]
  },
  {
   "cell_type": "code",
   "execution_count": 4,
   "metadata": {},
   "outputs": [],
   "source": [
    "# Function V2.0 With a Threshold of 0.5\n",
    "from sklearn.model_selection import StratifiedKFold\n",
    "from sklearn.metrics import roc_curve, precision_recall_curve, auc, roc_auc_score\n",
    "from sklearn.metrics import recall_score, accuracy_score, precision_score, f1_score, fbeta_score\n",
    "from sklearn.metrics import make_scorer, confusion_matrix, average_precision_score\n",
    "from imblearn.pipeline import Pipeline, make_pipeline\n",
    "\n",
    "def bm_resampling():\n",
    "    # Define a pipeline\n",
    "    pipelines = [['{}'.format(sampler[0]), make_pipeline(sampler[1], classifier[1])] for sampler in samplers]\n",
    "    # dict for scores\n",
    "    metrics = ['acc', 'auc_pr', 'auc_roc', 'f1_score', 'f2_score', 'precision', 'recall']\n",
    "    metrics_std = ['acc_sd', 'aucpr_sd', 'aucroc_sd', 'f1_sd', 'f2_sd', 'preci_sd', 'recall_sd']\n",
    "    scores = {key: np.empty(0) for key in metrics}\n",
    "    metrics.extend(metrics_std)\n",
    "    avg_scores = {key: np.empty(0) for key in metrics}\n",
    "    prob_dict = {}\n",
    "    # Fit models \n",
    "    cv = StratifiedKFold(n_splits=5, shuffle= True, random_state=42)\n",
    "    for name, pipeline in pipelines:\n",
    "        print('fitting:', name)\n",
    "        all_probs = np.zeros(len(X)) # array to store probabilities for PR plot\n",
    "        # Cross Validation\n",
    "        for train, test in cv.split(X, y):\n",
    "            fit_model = pipeline.fit(X.iloc[train], y.iloc[train])\n",
    "            # calculate metrics curves\n",
    "            y_true = y.iloc[test]\n",
    "            probs = pipeline.predict_proba(X.iloc[test])[:,1]\n",
    "            all_probs[test] = probs\n",
    "            precisions, recalls, thresholds = precision_recall_curve(y_true, probs)\n",
    "            pr_auc = auc(recalls, precisions)\n",
    "            fpr, tpr, thresholds_roc = roc_curve(y_true, probs)\n",
    "            roc_auc = auc(fpr, tpr)\n",
    "            # calculate metrics threshold 0.5\n",
    "            y_pred = pipeline.predict(X.iloc[test])\n",
    "            tpr = recall_score(y_true, y_pred)\n",
    "            acc = accuracy_score(y_true, y_pred)\n",
    "            ppv = precision_score(y_true, y_pred)\n",
    "            f1 = f1_score(y_true, y_pred)\n",
    "            f2 = fbeta_score(y_true, y_pred, beta=2)\n",
    "            avg_pre = average_precision_score(y_true, y_pred)\n",
    "            # save list with metrics\n",
    "            score_lst = [acc, pr_auc, roc_auc, f1, f2, ppv, tpr]\n",
    "            for metric, score in zip(scores, score_lst):\n",
    "                scores[metric] = np.append(scores[metric], score)\n",
    "        for metric, std in zip(scores, metrics_std):\n",
    "            avg_scores[metric] = np.append(avg_scores[metric], scores[metric].mean())\n",
    "            avg_scores[std] = np.append(avg_scores[std], scores[metric].std())\n",
    "        prob_dict[name] = all_probs\n",
    "    # Print results\n",
    "    df = pd.DataFrame(data=avg_scores, index=[k[0] for k in samplers])\n",
    "    return df, prob_dict"
   ]
  },
  {
   "cell_type": "markdown",
   "metadata": {},
   "source": [
    "## 3.3 FUNCTION PLOT PR-CURVE AND ROC-CURVE"
   ]
  },
  {
   "cell_type": "code",
   "execution_count": 5,
   "metadata": {},
   "outputs": [],
   "source": [
    "import matplotlib.pyplot as plt\n",
    "from sklearn.metrics import precision_recall_curve, auc, plot_precision_recall_curve, roc_curve\n",
    "\n",
    "def plot_bm_resampling(prob_dict):\n",
    "    # plot figures\n",
    "    fig = plt.figure(figsize=(9, 4), dpi=100, facecolor='w')\n",
    "    ax1 = fig.add_subplot(1, 2, 1)\n",
    "    ax2 = fig.add_subplot(1, 2, 2)\n",
    "\n",
    "    for model in prob_dict:\n",
    "        # metrics\n",
    "        precision, recall, thresholds = precision_recall_curve(y, prob_dict[model])\n",
    "        fpr, tpr, thresholds1 = roc_curve(y, prob_dict[model])\n",
    "        pr_auc_ = auc(recall, precision)\n",
    "        roc_auc_ = auc(fpr, tpr)\n",
    "        # plot the PR Curve\n",
    "        ax1.plot(recall, precision, linestyle='-', linewidth=1, alpha=0.5,\n",
    "                 label='{} (auc: %0.2f)'.format(model) % pr_auc_)\n",
    "        # plot the ROC Curve\n",
    "        ax2.plot(fpr, tpr, linestyle='--', linewidth=2, alpha=0.5,\n",
    "                 label='{} (auc: %0.2f)'.format(model) % roc_auc_)\n",
    "    # PR Curve plot attributes\n",
    "    no_skill = len(y[y==1]) / len(y)\n",
    "    ax1.plot([0,1], [no_skill,no_skill], linestyle='--', label=None, lw=1, c='grey')\n",
    "    ax1.set_title('Precision-Recall Curve')\n",
    "    ax1.set_xlabel('Recall')\n",
    "    ax1.set_ylabel('Precision')\n",
    "    ax1.legend(loc=\"upper right\", fontsize=8)\n",
    "    ax1.spines['top'].set_visible(False)\n",
    "    ax1.spines['right'].set_visible(False)\n",
    "    ax1.set_xlim([0, 1])\n",
    "    ax1.set_ylim([0, 1])\n",
    "    # ROC Curve plot attributes\n",
    "    ax2.plot([0,1], [0,1], linestyle='--', label=None, lw=1, c='grey')\n",
    "    ax2.set_title('ROC Curve')\n",
    "    ax2.set_xlabel('False Positive Rate')\n",
    "    ax2.set_ylabel('Recall (TP Rate)')\n",
    "    ax2.legend(loc=\"lower right\", fontsize=8)\n",
    "    ax2.spines['top'].set_visible(False)\n",
    "    ax2.spines['right'].set_visible(False)\n",
    "    ax2.set_xlim([0, 1])\n",
    "    ax2.set_ylim([0, 1])\n",
    "    # show plot\n",
    "    plt.show()"
   ]
  },
  {
   "cell_type": "code",
   "execution_count": 6,
   "metadata": {},
   "outputs": [],
   "source": [
    "import matplotlib.pyplot as plt\n",
    "from sklearn.metrics import precision_recall_curve, auc, plot_precision_recall_curve, roc_curve\n",
    "\n",
    "def plot_pr_curve(prob_dict):\n",
    "    # plot figures\n",
    "    fig = plt.figure(figsize=(6, 4), dpi=100, facecolor='w')\n",
    "    ax1 = fig.add_subplot()\n",
    "    for model in prob_dict:\n",
    "        # metrics\n",
    "        precision, recall, thresholds = precision_recall_curve(y, prob_dict[model])\n",
    "        pr_auc_ = auc(recall, precision)\n",
    "        # plot the PR Curve\n",
    "        ax1.plot(recall, precision, linestyle='-', linewidth=1, alpha=0.5,\n",
    "                 label='{} (auc: %0.2f)'.format(model) % pr_auc_)\n",
    "    # PR Curve plot attributes\n",
    "    no_skill = len(y[y==1]) / len(y)\n",
    "    ax1.plot([0,1], [no_skill,no_skill], linestyle='--', label=None, lw=1, c='grey')\n",
    "    ax1.set_title('Precision-Recall Curve')\n",
    "    ax1.set_xlabel('Recall')\n",
    "    ax1.set_ylabel('Precision')\n",
    "    ax1.legend(loc=\"lower right\", fontsize=8)\n",
    "    ax1.spines['top'].set_visible(False)\n",
    "    ax1.spines['right'].set_visible(False)\n",
    "    ax1.set_xlim([0, 1])\n",
    "    ax1.set_ylim([0, 1])\n",
    "    # show plot\n",
    "    plt.show()"
   ]
  },
  {
   "cell_type": "code",
   "execution_count": 7,
   "metadata": {},
   "outputs": [],
   "source": [
    "import matplotlib.pyplot as plt\n",
    "from sklearn.metrics import precision_recall_curve, auc, plot_precision_recall_curve, roc_curve\n",
    "\n",
    "def plot_roc_curve(prob_dict):\n",
    "    # plot figures\n",
    "    fig = plt.figure(figsize=(6, 4), dpi=100, facecolor='w')\n",
    "    ax2 = fig.add_subplot()\n",
    "\n",
    "    for model in prob_dict:\n",
    "        # metrics\n",
    "        fpr, tpr, thresholds1 = roc_curve(y, prob_dict[model])\n",
    "        roc_auc_ = auc(fpr, tpr)\n",
    "        # plot the ROC Curve\n",
    "        ax2.plot(fpr, tpr, linestyle='--', linewidth=2, alpha=0.5,\n",
    "                 label='{} (auc: %0.2f)'.format(model) % roc_auc_)\n",
    "    # ROC Curve plot attributes\n",
    "    ax2.plot([0,1], [0,1], linestyle='--', label=None, lw=1, c='grey')\n",
    "    ax2.set_title('ROC Curve')\n",
    "    ax2.set_xlabel('False Positive Rate')\n",
    "    ax2.set_ylabel('Recall (TP Rate)')\n",
    "    ax2.legend(loc=\"lower right\", fontsize=8)\n",
    "    ax2.spines['top'].set_visible(False)\n",
    "    ax2.spines['right'].set_visible(False)\n",
    "    ax2.set_xlim([0, 1])\n",
    "    ax2.set_ylim([0, 1])\n",
    "    # show plot\n",
    "    plt.show()"
   ]
  },
  {
   "cell_type": "markdown",
   "metadata": {},
   "source": [
    "# 4. RUN FUNCTIONS WITH CLASSIFIERS"
   ]
  },
  {
   "cell_type": "markdown",
   "metadata": {},
   "source": [
    "## 4.1 RANDOM FOREST"
   ]
  },
  {
   "cell_type": "code",
   "execution_count": 8,
   "metadata": {},
   "outputs": [
    {
     "name": "stdout",
     "output_type": "stream",
     "text": [
      "fitting: Unbalanced\n",
      "fitting: RUS\n",
      "fitting: NCR\n",
      "fitting: OSS\n",
      "fitting: SMOTE\n",
      "fitting: ADASYN\n",
      "fitting: BorderSMOTE\n",
      "fitting: SMOTE+ENN\n",
      "fitting: SMOTE+Tomek\n"
     ]
    },
    {
     "data": {
      "image/png": "[encoded data removed]",
      "text/plain": [
       "<Figure size 900x400 with 2 Axes>"
      ]
     },
     "metadata": {},
     "output_type": "display_data"
    },
    {
     "data": {
      "text/html": [
       "<div>\n",
       "<style scoped>\n",
       "    .dataframe tbody tr th:only-of-type {\n",
       "        vertical-align: middle;\n",
       "    }\n",
       "\n",
       "    .dataframe tbody tr th {\n",
       "        vertical-align: top;\n",
       "    }\n",
       "\n",
       "    .dataframe thead th {\n",
       "        text-align: right;\n",
       "    }\n",
       "</style>\n",
       "<table border=\"1\" class=\"dataframe\">\n",
       "  <thead>\n",
       "    <tr style=\"text-align: right;\">\n",
       "      <th></th>\n",
       "      <th>acc</th>\n",
       "      <th>auc_pr</th>\n",
       "      <th>auc_roc</th>\n",
       "      <th>f1_score</th>\n",
       "      <th>f2_score</th>\n",
       "      <th>precision</th>\n",
       "      <th>recall</th>\n",
       "      <th>acc_sd</th>\n",
       "      <th>aucpr_sd</th>\n",
       "      <th>aucroc_sd</th>\n",
       "      <th>f1_sd</th>\n",
       "      <th>f2_sd</th>\n",
       "      <th>preci_sd</th>\n",
       "      <th>recall_sd</th>\n",
       "    </tr>\n",
       "  </thead>\n",
       "  <tbody>\n",
       "    <tr>\n",
       "      <th>Unbalanced</th>\n",
       "      <td>0.770766</td>\n",
       "      <td>0.441575</td>\n",
       "      <td>0.694536</td>\n",
       "      <td>0.244743</td>\n",
       "      <td>0.180649</td>\n",
       "      <td>0.598910</td>\n",
       "      <td>0.153798</td>\n",
       "      <td>0.000446</td>\n",
       "      <td>0.001665</td>\n",
       "      <td>0.000490</td>\n",
       "      <td>0.001843</td>\n",
       "      <td>0.001508</td>\n",
       "      <td>0.003785</td>\n",
       "      <td>0.001342</td>\n",
       "    </tr>\n",
       "    <tr>\n",
       "      <th>RUS</th>\n",
       "      <td>0.712823</td>\n",
       "      <td>0.437644</td>\n",
       "      <td>0.694148</td>\n",
       "      <td>0.353018</td>\n",
       "      <td>0.360922</td>\n",
       "      <td>0.484555</td>\n",
       "      <td>0.382824</td>\n",
       "      <td>0.057949</td>\n",
       "      <td>0.004208</td>\n",
       "      <td>0.000741</td>\n",
       "      <td>0.108284</td>\n",
       "      <td>0.180278</td>\n",
       "      <td>0.114388</td>\n",
       "      <td>0.229032</td>\n",
       "    </tr>\n",
       "    <tr>\n",
       "      <th>NCR</th>\n",
       "      <td>0.713330</td>\n",
       "      <td>0.434969</td>\n",
       "      <td>0.694345</td>\n",
       "      <td>0.383680</td>\n",
       "      <td>0.394642</td>\n",
       "      <td>0.462768</td>\n",
       "      <td>0.413287</td>\n",
       "      <td>0.047322</td>\n",
       "      <td>0.005182</td>\n",
       "      <td>0.000772</td>\n",
       "      <td>0.098478</td>\n",
       "      <td>0.154732</td>\n",
       "      <td>0.098351</td>\n",
       "      <td>0.191907</td>\n",
       "    </tr>\n",
       "    <tr>\n",
       "      <th>OSS</th>\n",
       "      <td>0.727355</td>\n",
       "      <td>0.436760</td>\n",
       "      <td>0.694792</td>\n",
       "      <td>0.363243</td>\n",
       "      <td>0.355072</td>\n",
       "      <td>0.487464</td>\n",
       "      <td>0.361584</td>\n",
       "      <td>0.047641</td>\n",
       "      <td>0.005514</td>\n",
       "      <td>0.001053</td>\n",
       "      <td>0.092343</td>\n",
       "      <td>0.150513</td>\n",
       "      <td>0.095320</td>\n",
       "      <td>0.188790</td>\n",
       "    </tr>\n",
       "    <tr>\n",
       "      <th>SMOTE</th>\n",
       "      <td>0.735078</td>\n",
       "      <td>0.435275</td>\n",
       "      <td>0.693466</td>\n",
       "      <td>0.350947</td>\n",
       "      <td>0.331783</td>\n",
       "      <td>0.497942</td>\n",
       "      <td>0.331150</td>\n",
       "      <td>0.045325</td>\n",
       "      <td>0.005799</td>\n",
       "      <td>0.002819</td>\n",
       "      <td>0.086182</td>\n",
       "      <td>0.142456</td>\n",
       "      <td>0.087799</td>\n",
       "      <td>0.179496</td>\n",
       "    </tr>\n",
       "    <tr>\n",
       "      <th>ADASYN</th>\n",
       "      <td>0.740193</td>\n",
       "      <td>0.433955</td>\n",
       "      <td>0.692505</td>\n",
       "      <td>0.341701</td>\n",
       "      <td>0.315210</td>\n",
       "      <td>0.504948</td>\n",
       "      <td>0.309855</td>\n",
       "      <td>0.042928</td>\n",
       "      <td>0.006086</td>\n",
       "      <td>0.003361</td>\n",
       "      <td>0.081348</td>\n",
       "      <td>0.135223</td>\n",
       "      <td>0.081667</td>\n",
       "      <td>0.170636</td>\n",
       "    </tr>\n",
       "    <tr>\n",
       "      <th>BorderSMOTE</th>\n",
       "      <td>0.743826</td>\n",
       "      <td>0.432934</td>\n",
       "      <td>0.691842</td>\n",
       "      <td>0.335491</td>\n",
       "      <td>0.303788</td>\n",
       "      <td>0.509745</td>\n",
       "      <td>0.295051</td>\n",
       "      <td>0.040728</td>\n",
       "      <td>0.006197</td>\n",
       "      <td>0.003521</td>\n",
       "      <td>0.076840</td>\n",
       "      <td>0.128284</td>\n",
       "      <td>0.076524</td>\n",
       "      <td>0.162090</td>\n",
       "    </tr>\n",
       "    <tr>\n",
       "      <th>SMOTE+ENN</th>\n",
       "      <td>0.739871</td>\n",
       "      <td>0.432035</td>\n",
       "      <td>0.691818</td>\n",
       "      <td>0.348934</td>\n",
       "      <td>0.323453</td>\n",
       "      <td>0.498011</td>\n",
       "      <td>0.317419</td>\n",
       "      <td>0.039510</td>\n",
       "      <td>0.006281</td>\n",
       "      <td>0.003303</td>\n",
       "      <td>0.080198</td>\n",
       "      <td>0.130795</td>\n",
       "      <td>0.078026</td>\n",
       "      <td>0.162766</td>\n",
       "    </tr>\n",
       "    <tr>\n",
       "      <th>SMOTE+Tomek</th>\n",
       "      <td>0.742819</td>\n",
       "      <td>0.431892</td>\n",
       "      <td>0.691593</td>\n",
       "      <td>0.344021</td>\n",
       "      <td>0.314331</td>\n",
       "      <td>0.502878</td>\n",
       "      <td>0.305703</td>\n",
       "      <td>0.038172</td>\n",
       "      <td>0.005954</td>\n",
       "      <td>0.003193</td>\n",
       "      <td>0.076879</td>\n",
       "      <td>0.125986</td>\n",
       "      <td>0.074843</td>\n",
       "      <td>0.156995</td>\n",
       "    </tr>\n",
       "  </tbody>\n",
       "</table>\n",
       "</div>"
      ],
      "text/plain": [
       "                  acc    auc_pr   auc_roc  f1_score  f2_score  precision  \\\n",
       "Unbalanced   0.770766  0.441575  0.694536  0.244743  0.180649   0.598910   \n",
       "RUS          0.712823  0.437644  0.694148  0.353018  0.360922   0.484555   \n",
       "NCR          0.713330  0.434969  0.694345  0.383680  0.394642   0.462768   \n",
       "OSS          0.727355  0.436760  0.694792  0.363243  0.355072   0.487464   \n",
       "SMOTE        0.735078  0.435275  0.693466  0.350947  0.331783   0.497942   \n",
       "ADASYN       0.740193  0.433955  0.692505  0.341701  0.315210   0.504948   \n",
       "BorderSMOTE  0.743826  0.432934  0.691842  0.335491  0.303788   0.509745   \n",
       "SMOTE+ENN    0.739871  0.432035  0.691818  0.348934  0.323453   0.498011   \n",
       "SMOTE+Tomek  0.742819  0.431892  0.691593  0.344021  0.314331   0.502878   \n",
       "\n",
       "               recall    acc_sd  aucpr_sd  aucroc_sd     f1_sd     f2_sd  \\\n",
       "Unbalanced   0.153798  0.000446  0.001665   0.000490  0.001843  0.001508   \n",
       "RUS          0.382824  0.057949  0.004208   0.000741  0.108284  0.180278   \n",
       "NCR          0.413287  0.047322  0.005182   0.000772  0.098478  0.154732   \n",
       "OSS          0.361584  0.047641  0.005514   0.001053  0.092343  0.150513   \n",
       "SMOTE        0.331150  0.045325  0.005799   0.002819  0.086182  0.142456   \n",
       "ADASYN       0.309855  0.042928  0.006086   0.003361  0.081348  0.135223   \n",
       "BorderSMOTE  0.295051  0.040728  0.006197   0.003521  0.076840  0.128284   \n",
       "SMOTE+ENN    0.317419  0.039510  0.006281   0.003303  0.080198  0.130795   \n",
       "SMOTE+Tomek  0.305703  0.038172  0.005954   0.003193  0.076879  0.125986   \n",
       "\n",
       "             preci_sd  recall_sd  \n",
       "Unbalanced   0.003785   0.001342  \n",
       "RUS          0.114388   0.229032  \n",
       "NCR          0.098351   0.191907  \n",
       "OSS          0.095320   0.188790  \n",
       "SMOTE        0.087799   0.179496  \n",
       "ADASYN       0.081667   0.170636  \n",
       "BorderSMOTE  0.076524   0.162090  \n",
       "SMOTE+ENN    0.078026   0.162766  \n",
       "SMOTE+Tomek  0.074843   0.156995  "
      ]
     },
     "execution_count": 8,
     "metadata": {},
     "output_type": "execute_result"
    }
   ],
   "source": [
    "from sklearn.ensemble import RandomForestClassifier\n",
    "\n",
    "# Random Forest\n",
    "classifier = ['R.Forest', RandomForestClassifier(n_estimators=300, min_samples_split=2, random_state=123)]\n",
    "df_all_rfo, probs_all_rfo = bm_resampling()\n",
    "plot_bm_resampling(probs_all_rfo)\n",
    "df_all_rfo"
   ]
  },
  {
   "cell_type": "code",
   "execution_count": 9,
   "metadata": {},
   "outputs": [],
   "source": [
    "# Save results\n",
    "import pickle\n",
    "pickle.dump(probs_all_rfo, open( \"results_prob_dict_alldata_rfo.p\", \"wb\" ) )\n",
    "pickle.dump(df_all_rfo, open( \"results_df_alldata_rfo.p\", \"wb\" ) )"
   ]
  },
  {
   "cell_type": "markdown",
   "metadata": {},
   "source": [
    "## 4.2 LOGISTIC REGRESSION"
   ]
  },
  {
   "cell_type": "code",
   "execution_count": 10,
   "metadata": {},
   "outputs": [
    {
     "name": "stdout",
     "output_type": "stream",
     "text": [
      "fitting: Unbalanced\n",
      "fitting: RUS\n",
      "fitting: NCR\n",
      "fitting: OSS\n",
      "fitting: SMOTE\n",
      "fitting: ADASYN\n",
      "fitting: BorderSMOTE\n",
      "fitting: SMOTE+ENN\n",
      "fitting: SMOTE+Tomek\n"
     ]
    },
    {
     "data": {
      "image/png": "[encoded data removed]",
      "text/plain": [
       "<Figure size 900x400 with 2 Axes>"
      ]
     },
     "metadata": {},
     "output_type": "display_data"
    },
    {
     "data": {
      "text/html": [
       "<div>\n",
       "<style scoped>\n",
       "    .dataframe tbody tr th:only-of-type {\n",
       "        vertical-align: middle;\n",
       "    }\n",
       "\n",
       "    .dataframe tbody tr th {\n",
       "        vertical-align: top;\n",
       "    }\n",
       "\n",
       "    .dataframe thead th {\n",
       "        text-align: right;\n",
       "    }\n",
       "</style>\n",
       "<table border=\"1\" class=\"dataframe\">\n",
       "  <thead>\n",
       "    <tr style=\"text-align: right;\">\n",
       "      <th></th>\n",
       "      <th>acc</th>\n",
       "      <th>auc_pr</th>\n",
       "      <th>auc_roc</th>\n",
       "      <th>f1_score</th>\n",
       "      <th>f2_score</th>\n",
       "      <th>precision</th>\n",
       "      <th>recall</th>\n",
       "      <th>acc_sd</th>\n",
       "      <th>aucpr_sd</th>\n",
       "      <th>aucroc_sd</th>\n",
       "      <th>f1_sd</th>\n",
       "      <th>f2_sd</th>\n",
       "      <th>preci_sd</th>\n",
       "      <th>recall_sd</th>\n",
       "    </tr>\n",
       "  </thead>\n",
       "  <tbody>\n",
       "    <tr>\n",
       "      <th>Unbalanced</th>\n",
       "      <td>0.764496</td>\n",
       "      <td>0.404417</td>\n",
       "      <td>0.668641</td>\n",
       "      <td>0.147063</td>\n",
       "      <td>0.101468</td>\n",
       "      <td>0.586660</td>\n",
       "      <td>0.084089</td>\n",
       "      <td>0.000471</td>\n",
       "      <td>0.004084</td>\n",
       "      <td>0.003851</td>\n",
       "      <td>0.005593</td>\n",
       "      <td>0.004257</td>\n",
       "      <td>0.006560</td>\n",
       "      <td>0.003655</td>\n",
       "    </tr>\n",
       "    <tr>\n",
       "      <th>RUS</th>\n",
       "      <td>0.705375</td>\n",
       "      <td>0.405370</td>\n",
       "      <td>0.670350</td>\n",
       "      <td>0.295792</td>\n",
       "      <td>0.310673</td>\n",
       "      <td>0.472348</td>\n",
       "      <td>0.335107</td>\n",
       "      <td>0.059124</td>\n",
       "      <td>0.003277</td>\n",
       "      <td>0.003736</td>\n",
       "      <td>0.148793</td>\n",
       "      <td>0.209249</td>\n",
       "      <td>0.114408</td>\n",
       "      <td>0.251072</td>\n",
       "    </tr>\n",
       "    <tr>\n",
       "      <th>NCR</th>\n",
       "      <td>0.709461</td>\n",
       "      <td>0.404579</td>\n",
       "      <td>0.669654</td>\n",
       "      <td>0.333856</td>\n",
       "      <td>0.343025</td>\n",
       "      <td>0.452861</td>\n",
       "      <td>0.358826</td>\n",
       "      <td>0.048640</td>\n",
       "      <td>0.003016</td>\n",
       "      <td>0.003291</td>\n",
       "      <td>0.132888</td>\n",
       "      <td>0.176895</td>\n",
       "      <td>0.097413</td>\n",
       "      <td>0.207763</td>\n",
       "    </tr>\n",
       "    <tr>\n",
       "      <th>OSS</th>\n",
       "      <td>0.723272</td>\n",
       "      <td>0.404466</td>\n",
       "      <td>0.669346</td>\n",
       "      <td>0.302185</td>\n",
       "      <td>0.294922</td>\n",
       "      <td>0.478677</td>\n",
       "      <td>0.300976</td>\n",
       "      <td>0.048442</td>\n",
       "      <td>0.003412</td>\n",
       "      <td>0.003566</td>\n",
       "      <td>0.127631</td>\n",
       "      <td>0.174462</td>\n",
       "      <td>0.095492</td>\n",
       "      <td>0.205998</td>\n",
       "    </tr>\n",
       "    <tr>\n",
       "      <th>SMOTE</th>\n",
       "      <td>0.731498</td>\n",
       "      <td>0.403496</td>\n",
       "      <td>0.668680</td>\n",
       "      <td>0.279102</td>\n",
       "      <td>0.262628</td>\n",
       "      <td>0.495218</td>\n",
       "      <td>0.263205</td>\n",
       "      <td>0.046347</td>\n",
       "      <td>0.004479</td>\n",
       "      <td>0.003871</td>\n",
       "      <td>0.123231</td>\n",
       "      <td>0.168928</td>\n",
       "      <td>0.091628</td>\n",
       "      <td>0.199165</td>\n",
       "    </tr>\n",
       "    <tr>\n",
       "      <th>ADASYN</th>\n",
       "      <td>0.736982</td>\n",
       "      <td>0.402753</td>\n",
       "      <td>0.668141</td>\n",
       "      <td>0.261288</td>\n",
       "      <td>0.239105</td>\n",
       "      <td>0.507379</td>\n",
       "      <td>0.236262</td>\n",
       "      <td>0.044051</td>\n",
       "      <td>0.005131</td>\n",
       "      <td>0.004172</td>\n",
       "      <td>0.119415</td>\n",
       "      <td>0.162967</td>\n",
       "      <td>0.087980</td>\n",
       "      <td>0.191555</td>\n",
       "    </tr>\n",
       "    <tr>\n",
       "      <th>BorderSMOTE</th>\n",
       "      <td>0.740874</td>\n",
       "      <td>0.401858</td>\n",
       "      <td>0.667528</td>\n",
       "      <td>0.249124</td>\n",
       "      <td>0.222766</td>\n",
       "      <td>0.515461</td>\n",
       "      <td>0.217427</td>\n",
       "      <td>0.041884</td>\n",
       "      <td>0.006088</td>\n",
       "      <td>0.004880</td>\n",
       "      <td>0.114547</td>\n",
       "      <td>0.156117</td>\n",
       "      <td>0.083868</td>\n",
       "      <td>0.183262</td>\n",
       "    </tr>\n",
       "    <tr>\n",
       "      <th>SMOTE+ENN</th>\n",
       "      <td>0.738022</td>\n",
       "      <td>0.400777</td>\n",
       "      <td>0.666948</td>\n",
       "      <td>0.268295</td>\n",
       "      <td>0.244535</td>\n",
       "      <td>0.502552</td>\n",
       "      <td>0.239412</td>\n",
       "      <td>0.039922</td>\n",
       "      <td>0.007557</td>\n",
       "      <td>0.006014</td>\n",
       "      <td>0.118606</td>\n",
       "      <td>0.157037</td>\n",
       "      <td>0.085622</td>\n",
       "      <td>0.181079</td>\n",
       "    </tr>\n",
       "    <tr>\n",
       "      <th>SMOTE+Tomek</th>\n",
       "      <td>0.740936</td>\n",
       "      <td>0.400556</td>\n",
       "      <td>0.666829</td>\n",
       "      <td>0.259295</td>\n",
       "      <td>0.232247</td>\n",
       "      <td>0.508849</td>\n",
       "      <td>0.225318</td>\n",
       "      <td>0.038531</td>\n",
       "      <td>0.007351</td>\n",
       "      <td>0.005834</td>\n",
       "      <td>0.114730</td>\n",
       "      <td>0.152104</td>\n",
       "      <td>0.082674</td>\n",
       "      <td>0.175332</td>\n",
       "    </tr>\n",
       "  </tbody>\n",
       "</table>\n",
       "</div>"
      ],
      "text/plain": [
       "                  acc    auc_pr   auc_roc  f1_score  f2_score  precision  \\\n",
       "Unbalanced   0.764496  0.404417  0.668641  0.147063  0.101468   0.586660   \n",
       "RUS          0.705375  0.405370  0.670350  0.295792  0.310673   0.472348   \n",
       "NCR          0.709461  0.404579  0.669654  0.333856  0.343025   0.452861   \n",
       "OSS          0.723272  0.404466  0.669346  0.302185  0.294922   0.478677   \n",
       "SMOTE        0.731498  0.403496  0.668680  0.279102  0.262628   0.495218   \n",
       "ADASYN       0.736982  0.402753  0.668141  0.261288  0.239105   0.507379   \n",
       "BorderSMOTE  0.740874  0.401858  0.667528  0.249124  0.222766   0.515461   \n",
       "SMOTE+ENN    0.738022  0.400777  0.666948  0.268295  0.244535   0.502552   \n",
       "SMOTE+Tomek  0.740936  0.400556  0.666829  0.259295  0.232247   0.508849   \n",
       "\n",
       "               recall    acc_sd  aucpr_sd  aucroc_sd     f1_sd     f2_sd  \\\n",
       "Unbalanced   0.084089  0.000471  0.004084   0.003851  0.005593  0.004257   \n",
       "RUS          0.335107  0.059124  0.003277   0.003736  0.148793  0.209249   \n",
       "NCR          0.358826  0.048640  0.003016   0.003291  0.132888  0.176895   \n",
       "OSS          0.300976  0.048442  0.003412   0.003566  0.127631  0.174462   \n",
       "SMOTE        0.263205  0.046347  0.004479   0.003871  0.123231  0.168928   \n",
       "ADASYN       0.236262  0.044051  0.005131   0.004172  0.119415  0.162967   \n",
       "BorderSMOTE  0.217427  0.041884  0.006088   0.004880  0.114547  0.156117   \n",
       "SMOTE+ENN    0.239412  0.039922  0.007557   0.006014  0.118606  0.157037   \n",
       "SMOTE+Tomek  0.225318  0.038531  0.007351   0.005834  0.114730  0.152104   \n",
       "\n",
       "             preci_sd  recall_sd  \n",
       "Unbalanced   0.006560   0.003655  \n",
       "RUS          0.114408   0.251072  \n",
       "NCR          0.097413   0.207763  \n",
       "OSS          0.095492   0.205998  \n",
       "SMOTE        0.091628   0.199165  \n",
       "ADASYN       0.087980   0.191555  \n",
       "BorderSMOTE  0.083868   0.183262  \n",
       "SMOTE+ENN    0.085622   0.181079  \n",
       "SMOTE+Tomek  0.082674   0.175332  "
      ]
     },
     "execution_count": 10,
     "metadata": {},
     "output_type": "execute_result"
    }
   ],
   "source": [
    "from sklearn.linear_model import LogisticRegression\n",
    "\n",
    "# Logistic Regression\n",
    "classifier = ['Logit', LogisticRegression(penalty='l1', solver='liblinear', max_iter=5000)]\n",
    "df_all_log, probs_all_log = bm_resampling()\n",
    "plot_bm_resampling(probs_all_log)\n",
    "df_all_log"
   ]
  },
  {
   "cell_type": "code",
   "execution_count": 11,
   "metadata": {},
   "outputs": [],
   "source": [
    "# Save results\n",
    "import pickle\n",
    "pickle.dump(probs_all_log, open( \"results_prob_dict_alldata_log.p\", \"wb\" ) )\n",
    "pickle.dump(df_all_log, open( \"results_df_alldata_log.p\", \"wb\" ) )"
   ]
  },
  {
   "cell_type": "markdown",
   "metadata": {},
   "source": [
    "## 4.3 XGBOOST"
   ]
  },
  {
   "cell_type": "code",
   "execution_count": 12,
   "metadata": {},
   "outputs": [
    {
     "name": "stdout",
     "output_type": "stream",
     "text": [
      "fitting: Unbalanced\n",
      "fitting: RUS\n",
      "fitting: NCR\n",
      "fitting: OSS\n",
      "fitting: SMOTE\n",
      "fitting: ADASYN\n",
      "fitting: BorderSMOTE\n",
      "fitting: SMOTE+ENN\n",
      "fitting: SMOTE+Tomek\n"
     ]
    },
    {
     "data": {
      "image/png": "[encoded data removed]",
      "text/plain": [
       "<Figure size 900x400 with 2 Axes>"
      ]
     },
     "metadata": {},
     "output_type": "display_data"
    },
    {
     "data": {
      "text/html": [
       "<div>\n",
       "<style scoped>\n",
       "    .dataframe tbody tr th:only-of-type {\n",
       "        vertical-align: middle;\n",
       "    }\n",
       "\n",
       "    .dataframe tbody tr th {\n",
       "        vertical-align: top;\n",
       "    }\n",
       "\n",
       "    .dataframe thead th {\n",
       "        text-align: right;\n",
       "    }\n",
       "</style>\n",
       "<table border=\"1\" class=\"dataframe\">\n",
       "  <thead>\n",
       "    <tr style=\"text-align: right;\">\n",
       "      <th></th>\n",
       "      <th>acc</th>\n",
       "      <th>auc_pr</th>\n",
       "      <th>auc_roc</th>\n",
       "      <th>f1_score</th>\n",
       "      <th>f2_score</th>\n",
       "      <th>precision</th>\n",
       "      <th>recall</th>\n",
       "      <th>acc_sd</th>\n",
       "      <th>aucpr_sd</th>\n",
       "      <th>aucroc_sd</th>\n",
       "      <th>f1_sd</th>\n",
       "      <th>f2_sd</th>\n",
       "      <th>preci_sd</th>\n",
       "      <th>recall_sd</th>\n",
       "    </tr>\n",
       "  </thead>\n",
       "  <tbody>\n",
       "    <tr>\n",
       "      <th>Unbalanced</th>\n",
       "      <td>0.767378</td>\n",
       "      <td>0.424978</td>\n",
       "      <td>0.685814</td>\n",
       "      <td>0.184724</td>\n",
       "      <td>0.130490</td>\n",
       "      <td>0.601325</td>\n",
       "      <td>0.109130</td>\n",
       "      <td>0.000414</td>\n",
       "      <td>0.001701</td>\n",
       "      <td>0.000742</td>\n",
       "      <td>0.003026</td>\n",
       "      <td>0.002416</td>\n",
       "      <td>0.005250</td>\n",
       "      <td>0.002114</td>\n",
       "    </tr>\n",
       "    <tr>\n",
       "      <th>RUS</th>\n",
       "      <td>0.718753</td>\n",
       "      <td>0.424618</td>\n",
       "      <td>0.685843</td>\n",
       "      <td>0.318883</td>\n",
       "      <td>0.322503</td>\n",
       "      <td>0.489568</td>\n",
       "      <td>0.337412</td>\n",
       "      <td>0.048631</td>\n",
       "      <td>0.001722</td>\n",
       "      <td>0.000718</td>\n",
       "      <td>0.134176</td>\n",
       "      <td>0.192023</td>\n",
       "      <td>0.111820</td>\n",
       "      <td>0.228292</td>\n",
       "    </tr>\n",
       "    <tr>\n",
       "      <th>NCR</th>\n",
       "      <td>0.719770</td>\n",
       "      <td>0.421863</td>\n",
       "      <td>0.683891</td>\n",
       "      <td>0.353229</td>\n",
       "      <td>0.355336</td>\n",
       "      <td>0.467534</td>\n",
       "      <td>0.365072</td>\n",
       "      <td>0.039736</td>\n",
       "      <td>0.004244</td>\n",
       "      <td>0.002848</td>\n",
       "      <td>0.119845</td>\n",
       "      <td>0.163524</td>\n",
       "      <td>0.096476</td>\n",
       "      <td>0.190468</td>\n",
       "    </tr>\n",
       "    <tr>\n",
       "      <th>OSS</th>\n",
       "      <td>0.731716</td>\n",
       "      <td>0.422585</td>\n",
       "      <td>0.684315</td>\n",
       "      <td>0.326737</td>\n",
       "      <td>0.312686</td>\n",
       "      <td>0.492474</td>\n",
       "      <td>0.313326</td>\n",
       "      <td>0.040155</td>\n",
       "      <td>0.003986</td>\n",
       "      <td>0.002594</td>\n",
       "      <td>0.113490</td>\n",
       "      <td>0.159730</td>\n",
       "      <td>0.094094</td>\n",
       "      <td>0.187731</td>\n",
       "    </tr>\n",
       "    <tr>\n",
       "      <th>SMOTE</th>\n",
       "      <td>0.738109</td>\n",
       "      <td>0.420101</td>\n",
       "      <td>0.682015</td>\n",
       "      <td>0.315519</td>\n",
       "      <td>0.291970</td>\n",
       "      <td>0.500260</td>\n",
       "      <td>0.286976</td>\n",
       "      <td>0.038125</td>\n",
       "      <td>0.006175</td>\n",
       "      <td>0.005159</td>\n",
       "      <td>0.103979</td>\n",
       "      <td>0.148767</td>\n",
       "      <td>0.085603</td>\n",
       "      <td>0.175997</td>\n",
       "    </tr>\n",
       "    <tr>\n",
       "      <th>ADASYN</th>\n",
       "      <td>0.742477</td>\n",
       "      <td>0.418157</td>\n",
       "      <td>0.680231</td>\n",
       "      <td>0.304368</td>\n",
       "      <td>0.274616</td>\n",
       "      <td>0.506942</td>\n",
       "      <td>0.266070</td>\n",
       "      <td>0.036148</td>\n",
       "      <td>0.007149</td>\n",
       "      <td>0.006175</td>\n",
       "      <td>0.098203</td>\n",
       "      <td>0.141277</td>\n",
       "      <td>0.079576</td>\n",
       "      <td>0.167353</td>\n",
       "    </tr>\n",
       "    <tr>\n",
       "      <th>BorderSMOTE</th>\n",
       "      <td>0.745403</td>\n",
       "      <td>0.416743</td>\n",
       "      <td>0.679097</td>\n",
       "      <td>0.299035</td>\n",
       "      <td>0.264820</td>\n",
       "      <td>0.509841</td>\n",
       "      <td>0.253604</td>\n",
       "      <td>0.034226</td>\n",
       "      <td>0.007492</td>\n",
       "      <td>0.006360</td>\n",
       "      <td>0.091863</td>\n",
       "      <td>0.132987</td>\n",
       "      <td>0.074023</td>\n",
       "      <td>0.157924</td>\n",
       "    </tr>\n",
       "    <tr>\n",
       "      <th>SMOTE+ENN</th>\n",
       "      <td>0.738412</td>\n",
       "      <td>0.415821</td>\n",
       "      <td>0.678627</td>\n",
       "      <td>0.316066</td>\n",
       "      <td>0.290411</td>\n",
       "      <td>0.494624</td>\n",
       "      <td>0.283851</td>\n",
       "      <td>0.036980</td>\n",
       "      <td>0.007445</td>\n",
       "      <td>0.006083</td>\n",
       "      <td>0.097029</td>\n",
       "      <td>0.141639</td>\n",
       "      <td>0.080097</td>\n",
       "      <td>0.168023</td>\n",
       "    </tr>\n",
       "    <tr>\n",
       "      <th>SMOTE+Tomek</th>\n",
       "      <td>0.741157</td>\n",
       "      <td>0.415299</td>\n",
       "      <td>0.678099</td>\n",
       "      <td>0.311869</td>\n",
       "      <td>0.282247</td>\n",
       "      <td>0.498182</td>\n",
       "      <td>0.273326</td>\n",
       "      <td>0.035720</td>\n",
       "      <td>0.007194</td>\n",
       "      <td>0.005929</td>\n",
       "      <td>0.092253</td>\n",
       "      <td>0.135524</td>\n",
       "      <td>0.076196</td>\n",
       "      <td>0.161189</td>\n",
       "    </tr>\n",
       "  </tbody>\n",
       "</table>\n",
       "</div>"
      ],
      "text/plain": [
       "                  acc    auc_pr   auc_roc  f1_score  f2_score  precision  \\\n",
       "Unbalanced   0.767378  0.424978  0.685814  0.184724  0.130490   0.601325   \n",
       "RUS          0.718753  0.424618  0.685843  0.318883  0.322503   0.489568   \n",
       "NCR          0.719770  0.421863  0.683891  0.353229  0.355336   0.467534   \n",
       "OSS          0.731716  0.422585  0.684315  0.326737  0.312686   0.492474   \n",
       "SMOTE        0.738109  0.420101  0.682015  0.315519  0.291970   0.500260   \n",
       "ADASYN       0.742477  0.418157  0.680231  0.304368  0.274616   0.506942   \n",
       "BorderSMOTE  0.745403  0.416743  0.679097  0.299035  0.264820   0.509841   \n",
       "SMOTE+ENN    0.738412  0.415821  0.678627  0.316066  0.290411   0.494624   \n",
       "SMOTE+Tomek  0.741157  0.415299  0.678099  0.311869  0.282247   0.498182   \n",
       "\n",
       "               recall    acc_sd  aucpr_sd  aucroc_sd     f1_sd     f2_sd  \\\n",
       "Unbalanced   0.109130  0.000414  0.001701   0.000742  0.003026  0.002416   \n",
       "RUS          0.337412  0.048631  0.001722   0.000718  0.134176  0.192023   \n",
       "NCR          0.365072  0.039736  0.004244   0.002848  0.119845  0.163524   \n",
       "OSS          0.313326  0.040155  0.003986   0.002594  0.113490  0.159730   \n",
       "SMOTE        0.286976  0.038125  0.006175   0.005159  0.103979  0.148767   \n",
       "ADASYN       0.266070  0.036148  0.007149   0.006175  0.098203  0.141277   \n",
       "BorderSMOTE  0.253604  0.034226  0.007492   0.006360  0.091863  0.132987   \n",
       "SMOTE+ENN    0.283851  0.036980  0.007445   0.006083  0.097029  0.141639   \n",
       "SMOTE+Tomek  0.273326  0.035720  0.007194   0.005929  0.092253  0.135524   \n",
       "\n",
       "             preci_sd  recall_sd  \n",
       "Unbalanced   0.005250   0.002114  \n",
       "RUS          0.111820   0.228292  \n",
       "NCR          0.096476   0.190468  \n",
       "OSS          0.094094   0.187731  \n",
       "SMOTE        0.085603   0.175997  \n",
       "ADASYN       0.079576   0.167353  \n",
       "BorderSMOTE  0.074023   0.157924  \n",
       "SMOTE+ENN    0.080097   0.168023  \n",
       "SMOTE+Tomek  0.076196   0.161189  "
      ]
     },
     "execution_count": 12,
     "metadata": {},
     "output_type": "execute_result"
    }
   ],
   "source": [
    "from xgboost import XGBClassifier\n",
    "\n",
    "# XGBoost\n",
    "classifier = ['XGBoost', XGBClassifier(random_state=123)]\n",
    "df_all_xgb, probs_all_xgb = bm_resampling()\n",
    "plot_bm_resampling(probs_all_xgb)\n",
    "df_all_xgb"
   ]
  },
  {
   "cell_type": "code",
   "execution_count": 13,
   "metadata": {},
   "outputs": [],
   "source": [
    "# Save results\n",
    "import pickle\n",
    "pickle.dump(probs_all_xgb, open( \"results_prob_dict_alldata_xgb.p\", \"wb\" ) )\n",
    "pickle.dump(df_all_xgb, open( \"results_df_alldata_xgb.p\", \"wb\" ) )"
   ]
  },
  {
   "cell_type": "markdown",
   "metadata": {},
   "source": [
    "## 4.4 SVM"
   ]
  },
  {
   "cell_type": "raw",
   "metadata": {},
   "source": [
    "from sklearn.svm import LinearSVC\n",
    "from sklearn.linear_model import SGDClassifier\n",
    "\n",
    "# SVM\n",
    "classifier = ['SVM', LinearSVC(max_iter=3000, random_state=123)]\n",
    "#classifier = ['SVM', SGDClassifier(random_state=123)]\n",
    "df_all_svm, probs_all_svm = bm_resampling()\n",
    "plot_bm_resampling(probs_all_svm)\n",
    "df_all_svm"
   ]
  },
  {
   "cell_type": "raw",
   "metadata": {},
   "source": [
    "# Save results\n",
    "import pickle\n",
    "pickle.dump(probs_all_svm, open( \"results_prob_dict_alldata_svm.p\", \"wb\" ) )\n",
    "pickle.dump(df_all_svm, open( \"results_df_alldata_svm.p\", \"wb\" ) )"
   ]
  },
  {
   "cell_type": "markdown",
   "metadata": {},
   "source": [
    "# PLOTTIN BEST MODELS"
   ]
  },
  {
   "cell_type": "raw",
   "metadata": {},
   "source": [
    "# Load results\n",
    "import pickle\n",
    "\n",
    "#df_all_rfo = pickle.load( open(\"df_alldata_rfo.p\", \"rb\" ))\n",
    "probs_all_rfo = pickle.load( open(\"results_prob_dict_alldata_rfo.p\", \"rb\" ))\n",
    "probs_all_log = pickle.load( open(\"results_prob_dict_alldata_log.p\", \"rb\" ))\n",
    "probs_all_xgb = pickle.load( open(\"results_prob_dict_alldata_xgb.p\", \"rb\" ))\n",
    "\n",
    "plot_bm_resampling(probs_all_rfo)"
   ]
  },
  {
   "cell_type": "code",
   "execution_count": 14,
   "metadata": {},
   "outputs": [
    {
     "data": {
      "image/png": "[encoded data removed]",
      "text/plain": [
       "<Figure size 900x400 with 2 Axes>"
      ]
     },
     "metadata": {},
     "output_type": "display_data"
    }
   ],
   "source": [
    "probs_final = {'NCR-R.Forest': probs_all_rfo['NCR'],\n",
    "               'NCR-XGBoost ': probs_all_xgb['NCR'],\n",
    "               'NCR-Logistic': probs_all_log['NCR'],\n",
    "              }\n",
    "plot_bm_resampling(probs_final)"
   ]
  },
  {
   "cell_type": "code",
   "execution_count": 15,
   "metadata": {},
   "outputs": [
    {
     "data": {
      "image/png": "[encoded data removed]",
      "text/plain": [
       "<Figure size 600x400 with 1 Axes>"
      ]
     },
     "metadata": {},
     "output_type": "display_data"
    },
    {
     "data": {
      "image/png": "[encoded data removed]",
      "text/plain": [
       "<Figure size 600x400 with 1 Axes>"
      ]
     },
     "metadata": {},
     "output_type": "display_data"
    }
   ],
   "source": [
    "plot_pr_curve(probs_final)\n",
    "plot_roc_curve(probs_final)"
   ]
  },
  {
   "cell_type": "markdown",
   "metadata": {},
   "source": [
    "# PERMUTATION FEATURE IMPORTANCE"
   ]
  },
  {
   "cell_type": "markdown",
   "metadata": {},
   "source": [
    "### Import data (categorical)"
   ]
  },
  {
   "cell_type": "code",
   "execution_count": 1,
   "metadata": {},
   "outputs": [
    {
     "name": "stdout",
     "output_type": "stream",
     "text": [
      "num of observations: 878540\n",
      "Dependent variable : dropout\n"
     ]
    }
   ],
   "source": [
    "import numpy as np\n",
    "import pandas as pd\n",
    "\n",
    "# Import data\n",
    "df1 = pd.read_csv('all_data_categorical_dwe.csv')\n",
    "# select dependent variable\n",
    "df1 = df1.drop(columns = ['excluded', 'withdraw'])\n",
    "# Make X and y\n",
    "y = df1.iloc[:,0]\n",
    "X = df1.iloc[:, 1:]\n",
    "# summary of data\n",
    "print('num of observations:', len(df1))\n",
    "print('Dependent variable :', df1.columns.values[0])"
   ]
  },
  {
   "cell_type": "markdown",
   "metadata": {},
   "source": [
    "### Make toy dataset to test"
   ]
  },
  {
   "cell_type": "raw",
   "metadata": {},
   "source": [
    "# Make toy dataset\n",
    "df1 = df1.sample(frac =.5, random_state=42)\n",
    "y = df1.iloc[:,0]\n",
    "X = df1.iloc[:, 1:]\n",
    "# see results\n",
    "print(len(X))\n",
    "print(len(y))"
   ]
  },
  {
   "cell_type": "markdown",
   "metadata": {},
   "source": [
    "### Split into train and test sets"
   ]
  },
  {
   "cell_type": "code",
   "execution_count": 2,
   "metadata": {},
   "outputs": [
    {
     "name": "stdout",
     "output_type": "stream",
     "text": [
      "Train (702832, 25) (702832,)\n",
      "Test (175708, 25) (175708,)\n"
     ]
    }
   ],
   "source": [
    "from sklearn.model_selection import train_test_split\n",
    "\n",
    "# split into train and test sets\n",
    "X_train, X_test, y_train, y_test = \\\n",
    "train_test_split(X, y, stratify=y, test_size=0.2, random_state=123)\n",
    "# summarize\n",
    "print('Train', X_train.shape, y_train.shape)\n",
    "print('Test', X_test.shape, y_test.shape)"
   ]
  },
  {
   "cell_type": "markdown",
   "metadata": {},
   "source": [
    "## Random Forest"
   ]
  },
  {
   "cell_type": "code",
   "execution_count": 3,
   "metadata": {},
   "outputs": [],
   "source": [
    "from sklearn.inspection import permutation_importance\n",
    "from imblearn.pipeline import Pipeline\n",
    "from sklearn.preprocessing import OneHotEncoder\n",
    "from imblearn.under_sampling import RandomUnderSampler, NeighbourhoodCleaningRule\n",
    "from sklearn.ensemble import RandomForestClassifier\n",
    "\n",
    "# Make pipeline\n",
    "onehot = OneHotEncoder(handle_unknown='ignore')\n",
    "resample = NeighbourhoodCleaningRule()\n",
    "clf = RandomForestClassifier(n_estimators=300, random_state=123)\n",
    "pipeline = Pipeline([('onehot', onehot), ('resample', resample), ('clf', clf)])\n",
    "# fit pipeline and predict\n",
    "fit_model = pipeline.fit(X_train, y_train)\n",
    "imp = permutation_importance(fit_model, X_test, y_test, n_repeats=10, scoring='f1', random_state=42)\n",
    "# Save results\n",
    "import pickle\n",
    "pickle.dump(imp, open( \"feature_importance_all_data_NCR_Rforest.p\", \"wb\" ) )"
   ]
  },
  {
   "cell_type": "code",
   "execution_count": 4,
   "metadata": {},
   "outputs": [
    {
     "data": {
      "image/png": "[encoded data removed]",
      "text/plain": [
       "<Figure size 600x400 with 1 Axes>"
      ]
     },
     "metadata": {},
     "output_type": "display_data"
    }
   ],
   "source": [
    "import matplotlib.pyplot as plt\n",
    "\n",
    "# Plot Permutation importances\n",
    "sorted_idx = imp.importances_mean.argsort()\n",
    "fig = plt.figure(figsize=(6, 4), dpi=100, facecolor='w')\n",
    "ax = fig.add_subplot()\n",
    "#fig, ax = plt.subplots()\n",
    "ax.boxplot(imp.importances[sorted_idx].T,\n",
    "           vert=False, labels=X_test.columns[sorted_idx])\n",
    "ax.set_title(\"Permutation Importances (NCR-Random Forest)\")\n",
    "fig.tight_layout()\n",
    "plt.show()"
   ]
  },
  {
   "cell_type": "code",
   "execution_count": 5,
   "metadata": {
    "scrolled": false
   },
   "outputs": [
    {
     "name": "stdout",
     "output_type": "stream",
     "text": [
      "scholarship\t\t0.036 +/- 0.001\n",
      "prog_len\t\t0.024 +/- 0.001\n",
      "prog_jornada\t\t0.019 +/- 0.001\n",
      "hs_nse\t\t0.019 +/- 0.001\n",
      "prog_area3\t\t0.019 +/- 0.001\n",
      "prog_tuition\t\t0.016 +/- 0.000\n",
      "inst_cruch\t\t0.015 +/- 0.000\n",
      "prog_accredit\t\t0.014 +/- 0.001\n",
      "enrol_year\t\t0.012 +/- 0.001\n",
      "hs_ed_type_all\t\t0.011 +/- 0.000\n",
      "inst_type\t\t0.011 +/- 0.000\n",
      "prog_level\t\t0.009 +/- 0.000\n",
      "hs_control_simce\t\t0.008 +/- 0.001\n",
      "hs_nem_nem\t\t0.007 +/- 0.001\n",
      "stud_gend\t\t0.005 +/- 0.001\n",
      "inst_control\t\t0.005 +/- 0.000\n",
      "hs_simce_avg\t\t0.004 +/- 0.000\n",
      "inst_accred\t\t0.003 +/- 0.000\n",
      "hs_attend_avg\t\t0.003 +/- 0.001\n",
      "stud_com_ive\t\t0.003 +/- 0.000\n",
      "hs_fail_years\t\t0.003 +/- 0.000\n",
      "enrol_he_age\t\t0.002 +/- 0.001\n",
      "enrol_gap_nem\t\t0.001 +/- 0.000\n",
      "hs_years_out\t\t0.001 +/- 0.000\n",
      "hs_rural_simce\t\t0.000 +/- 0.000\n"
     ]
    }
   ],
   "source": [
    "for i in imp.importances_mean.argsort()[::-1]:\n",
    "    print(f\"{X_test.columns.values[i]:}\"\n",
    "          f\"\\t\\t\"\n",
    "          f\"{imp.importances_mean[i]:.3f}\"\n",
    "          f\" +/- {imp.importances_std[i]:.3f}\")"
   ]
  },
  {
   "cell_type": "markdown",
   "metadata": {},
   "source": [
    "## XGBoost"
   ]
  },
  {
   "cell_type": "raw",
   "metadata": {},
   "source": [
    "from sklearn.inspection import permutation_importance\n",
    "from imblearn.pipeline import Pipeline\n",
    "from sklearn.preprocessing import OneHotEncoder\n",
    "from imblearn.under_sampling import RandomUnderSampler, NeighbourhoodCleaningRule\n",
    "from xgboost import XGBClassifier\n",
    "\n",
    "# Make pipeline\n",
    "onehot = OneHotEncoder(handle_unknown='ignore')\n",
    "#resample = RandomUnderSampler(random_state=12)\n",
    "resample = NeighbourhoodCleaningRule()\n",
    "clf = XGBClassifier(random_state=123)\n",
    "pipeline = Pipeline([('onehot', onehot), ('resample', resample), ('clf', clf)])\n",
    "# fit pipeline and predict\n",
    "fit_model = pipeline.fit(X_train, y_train)\n",
    "imp = permutation_importance(fit_model, X_test, y_test, n_repeats=10, scoring='f1', random_state=42)"
   ]
  },
  {
   "cell_type": "raw",
   "metadata": {},
   "source": [
    "import matplotlib.pyplot as plt\n",
    "\n",
    "# Plot Permutation importances\n",
    "sorted_idx = imp.importances_mean.argsort()\n",
    "fig = plt.figure(figsize=(6, 4), dpi=100, facecolor='w')\n",
    "ax = fig.add_subplot()\n",
    "#fig, ax = plt.subplots()\n",
    "ax.boxplot(imp.importances[sorted_idx].T,\n",
    "           vert=False, labels=X_test.columns[sorted_idx])\n",
    "ax.set_title(\"Permutation Importances (NCR-XGBoost)\")\n",
    "fig.tight_layout()\n",
    "plt.show()"
   ]
  },
  {
   "cell_type": "raw",
   "metadata": {},
   "source": [
    "for i in imp.importances_mean.argsort()[::-1]:\n",
    "    print(f\"{X_test.columns.values[i]:}\"\n",
    "          f\"\\t\\t\"\n",
    "          f\"{imp.importances_mean[i]:.3f}\"\n",
    "          f\" +/- {imp.importances_std[i]:.3f}\")"
   ]
  },
  {
   "cell_type": "markdown",
   "metadata": {},
   "source": [
    "## ------------------------------------------------------------"
   ]
  },
  {
   "cell_type": "markdown",
   "metadata": {},
   "source": [
    "# 5. RUN FUNCTIONS WITH UNI DATA"
   ]
  },
  {
   "cell_type": "markdown",
   "metadata": {},
   "source": [
    "## Subset data by institution type UNI"
   ]
  },
  {
   "cell_type": "raw",
   "metadata": {},
   "source": [
    "# function to subset data by institution type\n",
    "def select_inst_type(df, inst_code=1):\n",
    "    '''0 = university, 1 = ip, 2 = cft, 3 = ip & cft'''\n",
    "    inst_type_lst = ['inst.type.university', 'inst.type.ip', 'inst.type.cft']\n",
    "    if inst_code == 3:\n",
    "        inst_type = inst_type_lst[0]\n",
    "        df = df[df[inst_type] != 1]\n",
    "        df = df.drop(columns = 'inst.type.university')\n",
    "        print('Selected inst type : inst.type ip & cft')\n",
    "    else:\n",
    "        inst_type = inst_type_lst[inst_code]\n",
    "        df = df[df[inst_type] == 1]\n",
    "        df = df.drop(columns = inst_type_lst)\n",
    "        print('Selected inst type :', inst_type)\n",
    "    return df\n",
    "\n",
    "# subset data by institution type\n",
    "df1 = select_inst_type(df, 0)\n",
    "# Make X and y\n",
    "y = df1.iloc[:,0]\n",
    "X = df1.iloc[:, 1:]\n",
    "# summary of data\n",
    "print('num of observations:', len(y))\n",
    "print('Dependent variable :', df.columns.values[0])"
   ]
  },
  {
   "cell_type": "markdown",
   "metadata": {},
   "source": [
    "## 5.1 RANDOM FOREST"
   ]
  },
  {
   "cell_type": "raw",
   "metadata": {},
   "source": [
    "from sklearn.ensemble import RandomForestClassifier\n",
    "\n",
    "# Random Forest\n",
    "classifier = ['R.Forest', RandomForestClassifier(n_estimators=300, min_samples_split=2, random_state=123)]\n",
    "df_uni_rfo, probs_uni_rfo = bm_resampling()\n",
    "plot_bm_resampling(probs_uni_rfo)\n",
    "df_uni_rfo"
   ]
  },
  {
   "cell_type": "raw",
   "metadata": {},
   "source": [
    "## 5.2 LOGISTIC REGRESSION"
   ]
  },
  {
   "cell_type": "raw",
   "metadata": {},
   "source": [
    "from sklearn.linear_model import LogisticRegression\n",
    "\n",
    "# Logistic Regression\n",
    "classifier = ['Logit', LogisticRegression(penalty='l1', solver='liblinear')]\n",
    "df_uni_log, probs_uni_log = bm_resampling()\n",
    "plot_bm_resampling(probs_uni_log)\n",
    "df_uni_log"
   ]
  },
  {
   "cell_type": "raw",
   "metadata": {},
   "source": [
    "## 5.3 XGBOOST"
   ]
  },
  {
   "cell_type": "raw",
   "metadata": {},
   "source": [
    "from xgboost import XGBClassifier\n",
    "\n",
    "# XGBoost\n",
    "classifier = ['XGBoost', XGBClassifier(random_state=123)]\n",
    "df_uni_xgb, probs_uni_xgb = bm_resampling()\n",
    "plot_bm_resampling(probs_uni_xgb)\n",
    "df_uni_xgb"
   ]
  },
  {
   "cell_type": "markdown",
   "metadata": {},
   "source": [
    "# 6. RUN FUNCTIONS WITH IP & CFT DATA"
   ]
  },
  {
   "cell_type": "markdown",
   "metadata": {},
   "source": [
    "## Subset data by institution type CFT & IP"
   ]
  },
  {
   "cell_type": "raw",
   "metadata": {},
   "source": [
    "# subset data by institution type\n",
    "df2 = select_inst_type(df, 3)\n",
    "# Make X and y\n",
    "y = df2.iloc[:,0]\n",
    "X = df2.iloc[:, 1:]\n",
    "# summary of data\n",
    "print('num of observations:', len(y))\n",
    "print('Dependent variable :', df.columns.values[0])"
   ]
  },
  {
   "cell_type": "markdown",
   "metadata": {},
   "source": [
    "## 6.1 RANDOM FOREST"
   ]
  },
  {
   "cell_type": "raw",
   "metadata": {},
   "source": [
    "from sklearn.ensemble import RandomForestClassifier\n",
    "\n",
    "# Random Forest\n",
    "classifier = ['R.Forest', RandomForestClassifier(n_estimators=300, min_samples_split=2, random_state=123)]\n",
    "df_cft_rfo, probs_cft_rfo = bm_resampling()\n",
    "plot_bm_resampling(probs_cft_rfo)\n",
    "df_cft_rfo"
   ]
  },
  {
   "cell_type": "raw",
   "metadata": {},
   "source": [
    "## 6.2 LOGISTIC REGRESSION"
   ]
  },
  {
   "cell_type": "raw",
   "metadata": {},
   "source": [
    "from sklearn.linear_model import LogisticRegression\n",
    "\n",
    "# Logistic Regression\n",
    "classifier = ['Logit', LogisticRegression(penalty='l1', solver='liblinear')]\n",
    "df_cft_log, probs_cft_log = bm_resampling()\n",
    "plot_bm_resampling(probs_cft_log)\n",
    "df_cft_log"
   ]
  },
  {
   "cell_type": "raw",
   "metadata": {},
   "source": [
    "## 6.3 XGBOOST"
   ]
  },
  {
   "cell_type": "raw",
   "metadata": {},
   "source": [
    "from xgboost import XGBClassifier\n",
    "\n",
    "# XGBoost\n",
    "classifier = ['XGBoost', XGBClassifier(random_state=123)]\n",
    "df_cft_xgb, probs_cft_xgb = bm_resampling()\n",
    "plot_bm_resampling(probs_cft_xgb)\n",
    "df_cft_xgb"
   ]
  },
  {
   "cell_type": "markdown",
   "metadata": {},
   "source": [
    "# FUNCTION TO DO BENCHMARK RESAMPLING METHODS"
   ]
  },
  {
   "cell_type": "markdown",
   "metadata": {},
   "source": [
    "## Function with Both Curves"
   ]
  },
  {
   "cell_type": "raw",
   "metadata": {},
   "source": [
    "import matplotlib.pyplot as plt\n",
    "from imblearn.pipeline import make_pipeline\n",
    "from sklearn.metrics import precision_recall_curve, auc, plot_precision_recall_curve, roc_curve\n",
    "\n",
    "# Function to benchmark sampling methods based on PR AUC\n",
    "def bm_sampling_all():\n",
    "    pipelines = [['{}'.format(sampler[0]),\n",
    "              make_pipeline(sampler[1], classifier[1])]\n",
    "             for sampler in samplers]\n",
    "    # plot figures\n",
    "    fig = plt.figure(figsize=(9, 4), dpi=100, facecolor='w')\n",
    "    ax1 = fig.add_subplot(1, 2, 1)\n",
    "    ax2 = fig.add_subplot(1, 2, 2)\n",
    "    # dict for results\n",
    "    keys = ['pr_auc', 'roc_auc', 'f1_score', 'f2_score', 'recall', 'precision']\n",
    "    metric_dict = {key: [] for key in keys}\n",
    "    # Fit models \n",
    "    for name, pipeline in pipelines:\n",
    "        #print('fitting:', pipeline)\n",
    "        fit_model = pipeline.fit(X_train, y_train)\n",
    "        probs = pipeline.predict_proba(X_test)[:,1]\n",
    "        # metrics\n",
    "        precision, recall, thresholds = precision_recall_curve(y_test, probs)\n",
    "        pr_auc_ = auc(recall, precision)\n",
    "        fpr, tpr, thresholds1 = roc_curve(y_test, probs)\n",
    "        roc_auc_ = auc(fpr, tpr)\n",
    "        bt_thresh, bt_f1, bt_f2, bt_tpr, bt_ppv = metrics_bestf1(precision, recall, thresholds)\n",
    "        # save metrics based on best F1-score\n",
    "        metric_dict['pr_auc'].append(pr_auc_)\n",
    "        metric_dict['roc_auc'].append(roc_auc_)\n",
    "#        metric_dict['thresh'].append(bt_thresh)\n",
    "        metric_dict['f1_score'].append(bt_f1)\n",
    "        metric_dict['f2_score'].append(bt_f2)\n",
    "        metric_dict['recall'].append(bt_tpr)\n",
    "        metric_dict['precision'].append(bt_ppv)\n",
    "        # plot the PR Curve\n",
    "        ax1.plot(recall, precision, linestyle='-', linewidth=1, alpha=0.5,\n",
    "                         label='{} (auc = %0.2f)'.format(name) % pr_auc_)\n",
    "        # plot the ROC Curve\n",
    "        ax2.plot(fpr, tpr, linestyle='--', linewidth=2, alpha=0.5,\n",
    "                         label='{} (auc = %0.2f)'.format(name) % roc_auc_)\n",
    "    # PR Curve plot attributes\n",
    "    no_skill = len(y_test[y_test==1]) / len(y_test)\n",
    "    ax1.plot([0,1], [no_skill,no_skill], linestyle='--', label=None, lw=1, c='grey')\n",
    "    ax1.set_title('Precision-Recall Curve')\n",
    "    ax1.set_xlabel('Recall')\n",
    "    ax1.set_ylabel('Precision')\n",
    "    ax1.legend(loc=\"upper right\", fontsize=8)\n",
    "    ax1.spines['top'].set_visible(False)\n",
    "    ax1.spines['right'].set_visible(False)\n",
    "    ax1.set_xlim([0, 1])\n",
    "    ax1.set_ylim([0, 1])\n",
    "    # ROC Curve plot attributes\n",
    "    ax2.plot([0,1], [0,1], linestyle='--', label=None, lw=1, c='grey')\n",
    "    ax2.set_title('ROC Curve')\n",
    "    ax2.set_xlabel('False Positive Rate')\n",
    "    ax2.set_ylabel('Recall (TP Rate)')\n",
    "    ax2.legend(loc=\"lower right\", fontsize=8)\n",
    "    ax2.spines['top'].set_visible(False)\n",
    "    ax2.spines['right'].set_visible(False)\n",
    "    ax2.set_xlim([0, 1])\n",
    "    ax2.set_ylim([0, 1])\n",
    "    # show plot\n",
    "    plt.show()\n",
    "    # Table with results\n",
    "    df = pd.DataFrame(data=metric_dict, index=[k[0] for k in samplers])\n",
    "    print(df)"
   ]
  },
  {
   "cell_type": "markdown",
   "metadata": {},
   "source": [
    "### Logit"
   ]
  },
  {
   "cell_type": "raw",
   "metadata": {},
   "source": [
    "from sklearn.linear_model import LogisticRegression\n",
    "\n",
    "# define classifier and run function to benchmark sampling methods\n",
    "classifier = ['Logit', LogisticRegression(penalty='l1', solver='liblinear')]\n",
    "bm_sampling_all()"
   ]
  },
  {
   "cell_type": "markdown",
   "metadata": {},
   "source": [
    "### XGBoost"
   ]
  },
  {
   "cell_type": "raw",
   "metadata": {},
   "source": [
    "from xgboost import XGBClassifier\n",
    "\n",
    "# define classifier and run function to benchmark sampling methods\n",
    "classifier = ['XGBoost', XGBClassifier(random_state=123)]\n",
    "bm_sampling_all()"
   ]
  },
  {
   "cell_type": "markdown",
   "metadata": {},
   "source": [
    "### Random Forest"
   ]
  },
  {
   "cell_type": "raw",
   "metadata": {},
   "source": [
    "from sklearn.ensemble import RandomForestClassifier\n",
    "\n",
    "# define classifier and run function to benchmark sampling methods\n",
    "classifier = ['R.Forest', RandomForestClassifier(n_estimators=300, min_samples_split=2, random_state=123)]\n",
    "bm_sampling_all()"
   ]
  },
  {
   "cell_type": "markdown",
   "metadata": {},
   "source": [
    "# TUNNING RESAMPLING METHODS"
   ]
  },
  {
   "cell_type": "raw",
   "metadata": {},
   "source": [
    "from sklearn.metrics import SCORERS\n",
    "\n",
    "sorted(SCORERS.keys())"
   ]
  },
  {
   "cell_type": "raw",
   "metadata": {},
   "source": [
    "from imblearn.pipeline import Pipeline\n",
    "from sklearn.model_selection import StratifiedKFold, cross_val_score\n",
    "from imblearn.over_sampling import SMOTE, BorderlineSMOTE\n",
    "from sklearn.ensemble import RandomForestClassifier\n",
    "\n",
    "k_values = [3, 5, 7,9]\n",
    "for k in k_values:\n",
    "    # define pipeline\n",
    "    clf = RandomForestClassifier(n_estimators=300, random_state=123)\n",
    "    resample = BorderlineSMOTE(kind='borderline-1',k_neighbors=k, random_state=123)\n",
    "    pipeline = Pipeline([('resample', resample), ('clf', clf)])\n",
    "    # evaluate pipeline\n",
    "    cv = StratifiedKFold(n_splits=5)\n",
    "    scores = cross_val_score(pipeline, X_train, y_train, scoring='average_precision', cv=cv, n_jobs=-1)\n",
    "    score = np.mean(scores)\n",
    "    print('> k=%d, Mean Avg Precision: %.3f' % (k, score))"
   ]
  },
  {
   "cell_type": "raw",
   "metadata": {},
   "source": [
    "from imblearn.over_sampling import SMOTE\n",
    "from imblearn.pipeline import Pipeline\n",
    "from sklearn.metrics import precision_recall_curve, auc, roc_curve\n",
    "from sklearn.metrics import plot_precision_recall_curve\n",
    "from sklearn.ensemble import RandomForestClassifier\n",
    "\n",
    "# dict for results\n",
    "keys = ['pr_auc', 'roc_auc', 'f1_score', \\\n",
    "            'f2_score', 'recall', 'precision']\n",
    "metric_dict = {key: [] for key in keys}\n",
    "k_values = [3, 5, 7,9]\n",
    "for k in k_values:\n",
    "    # define pipeline\n",
    "    clf = RandomForestClassifier(n_estimators=300, random_state=123)\n",
    "    resample = SMOTE(k_neighbors=k, random_state=123)\n",
    "    pipeline = Pipeline([('resample', resample), ('clf', clf)])\n",
    "    \n",
    "    fit_model = pipeline.fit(X_train, y_train)\n",
    "    probs = pipeline.predict_proba(X_test)[:,1]\n",
    "    # metrics\n",
    "    precision, recall, thresholds = precision_recall_curve(y_test, probs)\n",
    "    pr_auc_ = auc(recall, precision)\n",
    "    fpr, tpr, thresholds1 = roc_curve(y_test, probs)\n",
    "    roc_auc_ = auc(fpr, tpr)\n",
    "    bt_thresh, bt_f1, bt_f2, bt_tpr, bt_ppv = metrics_bestf1(precision, recall, thresholds)\n",
    "    # save metrics based on best F2-score\n",
    "    metric_dict['pr_auc'].append(pr_auc_)\n",
    "    metric_dict['roc_auc'].append(roc_auc_)\n",
    "    metric_dict['f1_score'].append(bt_f1)\n",
    "    metric_dict['f2_score'].append(bt_f2)\n",
    "    metric_dict['recall'].append(bt_tpr)\n",
    "    metric_dict['precision'].append(bt_ppv)\n",
    "df = pd.DataFrame(data = metric_dict, index=[k for k in k_values])\n",
    "print(df)       "
   ]
  },
  {
   "cell_type": "raw",
   "metadata": {},
   "source": [
    "from imblearn.over_sampling import SMOTE\n",
    "\n",
    "# Random Forest in SMOTE balanced data\n",
    "resample = SMOTE(random_state=123)\n",
    "clf = RandomForestClassifier(n_estimators=300, random_state=123)\n",
    "pipeline = Pipeline([('resample', resample), ('clf', clf)])\n",
    "# fit pipeline and predict\n",
    "fit_model = pipeline.fit(X_train, y_train)\n",
    "probs = pipeline.predict_proba(X_test)[:,1]\n",
    "# evalaute model metrics\n",
    "#get_model_auc(y_test, probs)\n",
    "#-------------------------------------------------------------------------------\n",
    "# Threshold F1\n",
    "#-------------------------------------------------------------------------------\n",
    "from sklearn.metrics import precision_recall_curve\n",
    "# get precision and recall\n",
    "precision, recall, thresholds = precision_recall_curve(y_test, probs)\n",
    "# calculate metrics based on best f1 score\n",
    "bt_thresh, bt_f1, bt_f2, bt_tpr, bt_ppv = metrics_bestf1(precision, recall)\n",
    "print('Best Threshold(F1):%f' % bt_thresh)\n",
    "print('F1-Score:%.3f, F2-Score:%.3f' % (bt_f1, bt_f2))\n",
    "print('Recall:%f, Precision:%.3f' % (bt_tpr, bt_ppv))"
   ]
  },
  {
   "cell_type": "markdown",
   "metadata": {},
   "source": [
    "## Function only with ROC Curve"
   ]
  },
  {
   "cell_type": "raw",
   "metadata": {},
   "source": [
    "import matplotlib.pyplot as plt\n",
    "from imblearn.pipeline import make_pipeline\n",
    "from sklearn.metrics import precision_recall_curve, auc, roc_curve\n",
    "from sklearn.metrics import plot_precision_recall_curve\n",
    "\n",
    "# Function to benchmark sampling methods based on ROC AUC\n",
    "def bm_sampling_roc():\n",
    "    pipelines = [['{}-{}'.format(sampler[0], classifier[0]),\n",
    "              make_pipeline(sampler[1], classifier[1])]\n",
    "             for sampler in samplers]\n",
    "    fig = plt.figure()\n",
    "    ax = fig.add_subplot(1, 1, 1)\n",
    "    # Loop\n",
    "    for name, pipeline in pipelines:\n",
    "        fit_model = pipeline.fit(X_train, y_train)\n",
    "        probs = pipeline.predict_proba(X_test)[:,1]\n",
    "        # metrics\n",
    "        precis1, recall1, thresh1 = precision_recall_curve(y_test, probs)\n",
    "        fpr, tpr, thresholds = roc_curve(y_test, probs)\n",
    "        pr_auc_ = auc(recall1, precis1)\n",
    "        roc_auc_ = auc(fpr, tpr)\n",
    "        # plot\n",
    "        plt.plot(fpr, tpr, linestyle='--',\n",
    "                 label='{} (auc = %0.2f)'.format(name) % roc_auc_, lw=2)\n",
    "    \n",
    "    # make plotting\n",
    "    plt.plot([0,1], [0,1], linestyle='--', label='Random')\n",
    "    ax.spines['top'].set_visible(False)\n",
    "    ax.spines['right'].set_visible(False)\n",
    "    ax.get_xaxis().tick_bottom()\n",
    "    ax.get_yaxis().tick_left()\n",
    "    ax.spines['left'].set_position(('outward', 10))\n",
    "    ax.spines['bottom'].set_position(('outward', 10))\n",
    "    plt.xlim([0, 1])\n",
    "    plt.ylim([0, 1])\n",
    "    plt.xlabel('False Positive Rate')\n",
    "    plt.ylabel('True Positive Rate')\n",
    "    plt.title('ROC Curve')\n",
    "    plt.legend(loc=\"lower right\")\n",
    "    plt.show()"
   ]
  },
  {
   "cell_type": "markdown",
   "metadata": {},
   "source": [
    "## Function only with PR Curve"
   ]
  },
  {
   "cell_type": "raw",
   "metadata": {},
   "source": [
    "import matplotlib.pyplot as plt\n",
    "from imblearn.pipeline import make_pipeline\n",
    "from sklearn.metrics import precision_recall_curve, auc, plot_precision_recall_curve, roc_curve\n",
    "\n",
    "# Function to benchmark sampling methods based on PR AUC\n",
    "def bm_sampling_pr():\n",
    "    pipelines = [['{}-{}'.format(sampler[0], classifier[0]),\n",
    "              make_pipeline(sampler[1], classifier[1])]\n",
    "             for sampler in samplers]\n",
    "    fig = plt.figure(figsize=(6.7, 5), dpi=100, facecolor='w')\n",
    "    ax = fig.add_subplot(1, 1, 1)\n",
    "    \n",
    "    keys = ['pr_auc', 'roc_auc']\n",
    "    metric_dict = {key: [] for key in keys}\n",
    "    # Fit models \n",
    "    for name, pipeline in pipelines:\n",
    "        fit_model = pipeline.fit(X_train, y_train)\n",
    "        probs = pipeline.predict_proba(X_test)[:,1]\n",
    "        # metrics\n",
    "        precision, recall, thresholds1 = precision_recall_curve(y_test, probs)\n",
    "        pr_auc_ = auc(recall, precision)\n",
    "        fpr, tpr, thresholds = roc_curve(y_test, probs)\n",
    "        roc_auc_ = auc(fpr, tpr)\n",
    "        metric_dict['pr_auc'].append(pr_auc_)\n",
    "        metric_dict['roc_auc'].append(roc_auc_)\n",
    "        # plot the PR Curve\n",
    "        plt.plot(recall, precision, linestyle='-',\n",
    "                 label='{} (auc = %0.2f)'.format(name) % pr_auc_, linewidth=1, alpha=0.5)\n",
    "    # Add extras to plot\n",
    "    no_skill = len(y_test[y_test==1]) / len(y_test)\n",
    "    plt.plot([0,1], [no_skill,no_skill], linestyle='--', label=None, lw=1, c='grey')\n",
    "    ax.spines['top'].set_visible(False)\n",
    "    ax.spines['right'].set_visible(False)\n",
    "    ax.get_xaxis().tick_bottom()\n",
    "    ax.get_yaxis().tick_left()\n",
    "    ax.spines['left'].set_position(('outward', 10))\n",
    "    ax.spines['bottom'].set_position(('outward', 10))\n",
    "    plt.xlim([0, 1])\n",
    "    plt.ylim([0, 1])\n",
    "    plt.xlabel('Recall')\n",
    "    plt.ylabel('Precision')\n",
    "    plt.title('Precision-Recall Curve')\n",
    "    plt.legend(loc=\"upper right\")\n",
    "    plt.show()\n",
    "    # Table with results\n",
    "    df = pd.DataFrame(data=metric_dict, index=[k[0] for k in samplers])\n",
    "    print(df)"
   ]
  },
  {
   "cell_type": "markdown",
   "metadata": {},
   "source": [
    "# ~DISASTER"
   ]
  },
  {
   "cell_type": "raw",
   "metadata": {},
   "source": [
    "from sklearn.ensemble import RandomForestClassifier\n",
    "from imblearn.pipeline import Pipeline\n",
    "from imblearn.over_sampling import SMOTE\n",
    "from imblearn.under_sampling import RandomUnderSampler\n",
    "from sklearn.metrics import recall_score, precision_score, f1_score, fbeta_score\n",
    "\n",
    "# Random Forest in SMOTE balanced data\n",
    "clf = RandomForestClassifier(n_estimators=100, random_state=123)\n",
    "resample = SMOTE(random_state=123)\n",
    "#under = RandomUnderSampler(sampling_strategy=0.5, random_state=123)\n",
    "pipeline = Pipeline([('resample', resample), ('clf', clf)])\n",
    "#steps = [('resample', resample), ('under', under), ('clf', clf)]\n",
    "#pipeline = Pipeline(steps=steps)\n",
    "    \n",
    "# fit pipeline and predict\n",
    "fit_model = pipeline.fit(X_train, y_train)\n",
    "probs = pipeline.predict_proba(X_test)[:,1]\n",
    "# evalaute model metrics\n",
    "#get_model_auc(y_test, probs)\n",
    "y_pred = pipeline.predict(X_test)\n",
    "\n",
    "recall = recall_score(y_test, y_pred, pos_label=1, average='binary')\n",
    "precis = precision_score(y_test, y_pred, pos_label=1, average='binary')\n",
    "f1 = f1_score(y_test, y_pred, pos_label=1, average='binary')\n",
    "f2 = fbeta_score(y_test, y_pred, beta=2, pos_label=1, average='binary')\n",
    "print('F1-Score:%.3f, F2-Score:%.3f' % (f1, f2))\n",
    "print('Recall:%.3f, Precision:%.3f' % (recall, precis))\n",
    "\n",
    "from sklearn.metrics import precision_recall_curve\n",
    "precis_arr, recall_arr, threshold_arr = precision_recall_curve(y_test, probs)\n",
    "ix = np.where(threshold_arr == 0.5)\n",
    "bt_recall = recall_arr[ix]\n",
    "bt_precis = precis_arr[ix]\n",
    "bt_f1 = 2 * (bt_precis * bt_recall) / (bt_precis + bt_recall)\n",
    "bt_f2 = (5 * bt_precis * bt_recall) / (4 * bt_precis + bt_recall)\n",
    "print('')\n",
    "print('Threshold:%f' % threshold_arr[ix])\n",
    "print('F1-Score:%.3f, F2-Score:%.3f' % (bt_f1, bt_f2))\n",
    "print('Recall:%f, Precision:%.3f' % (bt_recall, bt_precis))"
   ]
  },
  {
   "cell_type": "raw",
   "metadata": {},
   "source": [
    "from imblearn.pipeline import Pipeline\n",
    "from sklearn.svm import LinearSVC\n",
    "from imblearn.over_sampling import SMOTE\n",
    "from sklearn.metrics import recall_score, precision_score, f1_score, fbeta_score\n",
    "\n",
    "# Random Forest in SMOTE balanced data\n",
    "resample = SMOTE(random_state=123)\n",
    "#resample = 'passthrough'\n",
    "clf = LinearSVC(max_iter=100000, random_state=123, dual = False)\n",
    "pipeline = Pipeline([('resample', resample), ('clf', clf)])\n",
    "\n",
    "# fit pipeline and predict\n",
    "fit_model = pipeline.fit(X_train, y_train)\n",
    "y_pred = pipeline.predict(X_test)\n",
    "\n",
    "recall = recall_score(y_test, y_pred, pos_label=1, average='binary')\n",
    "precis = precision_score(y_test, y_pred, pos_label=1, average='binary')\n",
    "f1 = f1_score(y_test, y_pred, pos_label=1, average='binary')\n",
    "f2 = fbeta_score(y_test, y_pred, beta=2, pos_label=1, average='binary')\n",
    "print('F1-Score:%.3f, F2-Score:%.3f' % (f1, f2))\n",
    "print('Recall:%.3f, Precision:%.3f' % (recall, precis))"
   ]
  },
  {
   "cell_type": "markdown",
   "metadata": {},
   "source": [
    "# RESAMPLING AND CLASSIFYING 1 by 1"
   ]
  },
  {
   "cell_type": "markdown",
   "metadata": {},
   "source": [
    "## 3.1 LOGISTIC REGRESSION"
   ]
  },
  {
   "cell_type": "raw",
   "metadata": {},
   "source": [
    "from imblearn.pipeline import Pipeline\n",
    "from sklearn.linear_model import LogisticRegression\n",
    "\n",
    "clf = LogisticRegression(penalty='l1', solver='liblinear')\n",
    "pipeline = Pipeline([('clf', clf)])\n",
    "# fit pipeline and predict\n",
    "fit_model = pipeline.fit(X_train, y_train)\n",
    "probs = pipeline.predict_proba(X_test)[:,1]\n",
    "# evalaute model metrics\n",
    "get_model_auc(y_test, probs)"
   ]
  },
  {
   "cell_type": "raw",
   "metadata": {},
   "source": [
    "from imblearn.pipeline import Pipeline\n",
    "from imblearn.under_sampling import RandomUnderSampler\n",
    "\n",
    "# define classifier\n",
    "resample = RandomUnderSampler(random_state=123)\n",
    "clf = LogisticRegression(penalty='l1', solver='liblinear')\n",
    "pipeline = Pipeline([('resample', resample), ('clf', clf)])\n",
    "# fit pipeline and predict\n",
    "fit_model = pipeline.fit(X_train, y_train)\n",
    "probs = pipeline.predict_proba(X_test)[:,1]\n",
    "# evalaute model metrics\n",
    "get_model_auc(y_test, probs)"
   ]
  },
  {
   "cell_type": "markdown",
   "metadata": {},
   "source": [
    "## RANDOM FOREST"
   ]
  },
  {
   "cell_type": "markdown",
   "metadata": {},
   "source": [
    "### Random Forest  in imbalanced data"
   ]
  },
  {
   "cell_type": "raw",
   "metadata": {},
   "source": [
    "from sklearn.ensemble import RandomForestClassifier\n",
    "from imblearn.pipeline import Pipeline\n",
    "\n",
    "# Random Forest in imbalanced data\n",
    "clf = RandomForestClassifier(n_estimators=300, random_state=123)\n",
    "pipeline = Pipeline([('clf', clf)])\n",
    "# fit pipeline and predict\n",
    "fit_model = pipeline.fit(X_train, y_train)\n",
    "probs = pipeline.predict_proba(X_test)[:,1]\n",
    "# evalaute model metrics\n",
    "get_model_auc(y_test, probs)"
   ]
  },
  {
   "cell_type": "markdown",
   "metadata": {},
   "source": [
    "### Random Forest in data balanced with ADASYN"
   ]
  },
  {
   "cell_type": "raw",
   "metadata": {},
   "source": [
    "from imblearn.pipeline import Pipeline\n",
    "from imblearn.over_sampling import ADASYN\n",
    "\n",
    "# Random Forest in SMOTE balanced data\n",
    "resample = ADASYN(random_state=123)\n",
    "clf = RandomForestClassifier(n_estimators=300, random_state=123)\n",
    "pipeline = Pipeline([('resample', resample), ('clf', clf)])\n",
    "# fit pipeline and predict\n",
    "fit_model = pipeline.fit(X_train, y_train)\n",
    "probs = pipeline.predict_proba(X_test)[:,1]\n",
    "# evalaute model metrics\n",
    "get_model_auc(y_test, probs)"
   ]
  },
  {
   "cell_type": "markdown",
   "metadata": {},
   "source": [
    "### Random Forest in data balanced with SMOTE + ENN"
   ]
  },
  {
   "cell_type": "raw",
   "metadata": {},
   "source": [
    "from imblearn.combine import SMOTEENN\n",
    "\n",
    "# Random Forest in SMOTE balanced data\n",
    "resample = SMOTEENN(random_state=123)\n",
    "clf = RandomForestClassifier(n_estimators=300, random_state=123)\n",
    "pipeline = Pipeline([('resample', resample), ('clf', clf)])\n",
    "# fit pipeline and predict\n",
    "fit_model = pipeline.fit(X_train, y_train)\n",
    "probs = pipeline.predict_proba(X_test)[:,1]\n",
    "# evalaute model metrics\n",
    "get_model_auc(y_test, probs)"
   ]
  },
  {
   "cell_type": "markdown",
   "metadata": {},
   "source": [
    "### Random Forest in data balanced with SMOTE + Tomek"
   ]
  },
  {
   "cell_type": "raw",
   "metadata": {},
   "source": [
    "from imblearn.combine import SMOTETomek\n",
    "\n",
    "# Random Forest in SMOTE balanced data\n",
    "resample = SMOTETomek(random_state=123)\n",
    "clf = RandomForestClassifier(n_estimators=300, random_state=123)\n",
    "pipeline = Pipeline([('resample', resample), ('clf', clf)])\n",
    "# fit pipeline and predict\n",
    "fit_model = pipeline.fit(X_train, y_train)\n",
    "probs = pipeline.predict_proba(X_test)[:,1]\n",
    "# evalaute model metrics\n",
    "get_model_auc(y_test, probs)"
   ]
  },
  {
   "cell_type": "markdown",
   "metadata": {},
   "source": [
    "## XGBoost with Holdout"
   ]
  },
  {
   "cell_type": "markdown",
   "metadata": {},
   "source": [
    "### XGBoost in imbalanced data"
   ]
  },
  {
   "cell_type": "raw",
   "metadata": {},
   "source": [
    "from xgboost import XGBClassifier\n",
    "from imblearn.pipeline import Pipeline\n",
    "\n",
    "# Random Forest in imbalanced data\n",
    "clf = XGBClassifier(random_state=123)\n",
    "pipeline = Pipeline([('clf', clf)])\n",
    "# fit pipeline and predict\n",
    "fit_model = pipeline.fit(X_train, y_train)\n",
    "probs = pipeline.predict_proba(X_test)[:,1]\n",
    "# evalaute model metrics\n",
    "get_model_auc(y_test, probs)"
   ]
  },
  {
   "cell_type": "markdown",
   "metadata": {},
   "source": [
    "### XGBoost in data balanced with SMOTE"
   ]
  },
  {
   "cell_type": "raw",
   "metadata": {},
   "source": [
    "from xgboost import XGBClassifier\n",
    "from imblearn.over_sampling import SMOTE\n",
    "\n",
    "# Random Forest in SMOTE balanced data\n",
    "resample = SMOTE(random_state=123)\n",
    "clf = XGBClassifier(random_state=123)\n",
    "pipeline = Pipeline([('resample', resample), ('clf', clf)])\n",
    "# fit pipeline and predict\n",
    "fit_model = pipeline.fit(X_train, y_train)\n",
    "probs = pipeline.predict_proba(X_test)[:,1]\n",
    "# evalaute model metrics\n",
    "get_model_auc(y_test, probs)"
   ]
  },
  {
   "cell_type": "markdown",
   "metadata": {},
   "source": [
    "### XGBoost in data balanced with SMOTE + ENN"
   ]
  },
  {
   "cell_type": "raw",
   "metadata": {},
   "source": [
    "from xgboost import XGBClassifier\n",
    "from imblearn.combine import SMOTEENN\n",
    "\n",
    "# Random Forest in SMOTE balanced data\n",
    "resample = SMOTEENN(random_state=123)\n",
    "clf = XGBClassifier(random_state=123)\n",
    "pipeline = Pipeline([('resample', resample), ('clf', clf)])\n",
    "# fit pipeline and predict\n",
    "fit_model = pipeline.fit(X_train, y_train)\n",
    "probs = pipeline.predict_proba(X_test)[:,1]\n",
    "# evalaute model metrics\n",
    "get_model_auc(y_test, probs)"
   ]
  },
  {
   "cell_type": "markdown",
   "metadata": {},
   "source": [
    "### XGBoost in data balanced with SMOTE + Tomek"
   ]
  },
  {
   "cell_type": "raw",
   "metadata": {},
   "source": [
    "from xgboost import XGBClassifier\n",
    "from imblearn.combine import SMOTETomek\n",
    "\n",
    "# Random Forest in SMOTE balanced data\n",
    "resample = SMOTETomek(random_state=123)\n",
    "clf = XGBClassifier(random_state=123)\n",
    "pipeline = Pipeline([('resample', resample), ('clf', clf)])\n",
    "# fit pipeline and predict\n",
    "fit_model = pipeline.fit(X_train, y_train)\n",
    "probs = pipeline.predict_proba(X_test)[:,1]\n",
    "# evalaute model metrics\n",
    "get_model_auc(y_test, probs)"
   ]
  },
  {
   "cell_type": "markdown",
   "metadata": {},
   "source": [
    "# TUNNING USING GRID SEARCH WITH CV"
   ]
  },
  {
   "cell_type": "markdown",
   "metadata": {},
   "source": [
    "## Tunning with Resampler and Classifier"
   ]
  },
  {
   "cell_type": "raw",
   "metadata": {},
   "source": [
    "from sklearn.model_selection import GridSearchCV, StratifiedKFold\n",
    "from sklearn.metrics import roc_curve, precision_recall_curve, auc, make_scorer\n",
    "from sklearn.metrics import recall_score, accuracy_score, precision_score\n",
    "from sklearn.metrics import confusion_matrix, average_precision_score\n",
    "\n",
    "def grid_search_wrapper(refit_score='average_precision_score'):\n",
    "    \"\"\"\n",
    "    fits a GridSearchCV pipeline  using refit_score for optimization\n",
    "    prints pipeline performance metrics\n",
    "    \"\"\"\n",
    "    scorers = {\n",
    "    'average_precision_score': make_scorer(average_precision_score),\n",
    "    'precision_score': make_scorer(precision_score),\n",
    "    'recall_score': make_scorer(recall_score),\n",
    "    'accuracy_score': make_scorer(accuracy_score)\n",
    "    }\n",
    "    # Fit grid search\n",
    "    cv = StratifiedKFold(n_splits=5)\n",
    "    grid_search = GridSearchCV(pipe, param_grid, scoring=scorers, refit=refit_score,\n",
    "                               cv=cv, return_train_score=True, n_jobs=1)\n",
    "    grid_search.fit(X_train, y_train)\n",
    "    # print results\n",
    "    print(\"Parameters tunned for best {}\".format(refit_score))\n",
    "    print(\"Best {}: %0.3f\".format(refit_score) % grid_search.best_score_)\n",
    "    print(\"Best parameters:\", grid_search.best_params_)\n",
    "    return grid_search"
   ]
  },
  {
   "cell_type": "markdown",
   "metadata": {},
   "source": [
    "### Random Forest  tunning"
   ]
  },
  {
   "cell_type": "raw",
   "metadata": {},
   "source": [
    "from imblearn.pipeline import Pipeline\n",
    "from sklearn.ensemble import RandomForestClassifier\n",
    "from imblearn.over_sampling import SMOTE\n",
    "\n",
    "# Define a pipeline\n",
    "resample = SMOTE(random_state=123)\n",
    "clf = RandomForestClassifier(random_state=123)\n",
    "pipe = Pipeline(steps=[('resample', resample), ('clf', clf)])\n",
    "    \n",
    "# Set parameters of pipeline:\n",
    "param_grid = {\n",
    "    'resample__k_neighbors': [3, 5, 7],\n",
    "    'clf__n_estimators' : [100, 300],\n",
    "    'clf__min_samples_split': [5, 10, 15], \n",
    "    'clf__max_depth': [15, 25, 35],\n",
    "    'clf__max_features': [10, 20, 30],\n",
    "}\n",
    "# Tunning with grid\n",
    "grid_search_clf = grid_search_wrapper(refit_score='recall_score')"
   ]
  },
  {
   "cell_type": "raw",
   "metadata": {},
   "source": [
    "results = pd.DataFrame(grid_search_clf.cv_results_)\n",
    "results = results.sort_values(by='mean_test_average_precision_score', ascending=False)\n",
    "results[['mean_test_average_precision_score', 'mean_test_precision_score', 'mean_test_recall_score', 'mean_test_accuracy_score', 'param_resample__k_neighbors', 'param_clf__max_depth']].round(3).head()\n"
   ]
  },
  {
   "cell_type": "markdown",
   "metadata": {},
   "source": [
    "### XGBoost tunning"
   ]
  },
  {
   "cell_type": "raw",
   "metadata": {},
   "source": [
    "from imblearn.pipeline import Pipeline\n",
    "from xgboost import XGBClassifier\n",
    "from imblearn.over_sampling import SMOTE\n",
    "\n",
    "# Define a pipeline\n",
    "resample = SMOTE(random_state=123)\n",
    "clf = XGBClassifier(random_state=123)\n",
    "pipe = Pipeline(steps=[('resample', resample), ('clf', clf)])\n",
    "    \n",
    "# Set parameters of pipeline:\n",
    "param_grid = {\n",
    "    'resample__k_neighbors': [3, 5, 7],\n",
    "    'clf__max_depth' : [3, 6, 9],\n",
    "    'clf__tree_method' : ['hist'],\n",
    "}\n",
    "# Tunning with grid\n",
    "grid_search_clf = grid_search_wrapper(refit_score='recall_score')"
   ]
  },
  {
   "cell_type": "markdown",
   "metadata": {},
   "source": [
    "## Tunning grid search wrapper"
   ]
  },
  {
   "cell_type": "raw",
   "metadata": {},
   "source": [
    "from sklearn.model_selection import GridSearchCV, StratifiedKFold\n",
    "from sklearn.metrics import roc_curve, precision_recall_curve, auc, make_scorer\n",
    "from sklearn.metrics import recall_score, accuracy_score, precision_score\n",
    "from sklearn.metrics import confusion_matrix, average_precision_score\n",
    "import matplotlib.pyplot as plt\n",
    "plt.style.use(\"ggplot\")\n",
    "\n",
    "def grid_search_wrapper(refit_score='average_precision_score'):\n",
    "    \"\"\"\n",
    "    fits a GridSearchCV classifier using refit_score for optimization\n",
    "    prints classifier performance metrics\n",
    "    \"\"\"\n",
    "    skf = StratifiedKFold(n_splits=5)\n",
    "    grid_search = GridSearchCV(clf, param_grid, scoring=scorers, refit=refit_score,\n",
    "                               cv=skf, return_train_score=True, n_jobs=-1)\n",
    "    grid_search.fit(X_train.values, y_train.values)\n",
    "\n",
    "    # make the predictions\n",
    "    y_pred = grid_search.predict(X_test.values)\n",
    "\n",
    "    print('Best params for {}'.format(refit_score))\n",
    "    print(grid_search.best_params_)\n",
    "\n",
    "    # confusion matrix on the test data.\n",
    "    print('\\nConfusion matrix of Random Forest optimized for {} on the test data:'.format(refit_score))\n",
    "    print(pd.DataFrame(confusion_matrix(y_test, y_pred),\n",
    "                 columns=['pred_neg', 'pred_pos'], index=['neg', 'pos']))\n",
    "    return grid_search"
   ]
  },
  {
   "cell_type": "raw",
   "metadata": {},
   "source": [
    "import numpy as np\n",
    "import pandas as pd\n",
    "\n",
    "from sklearn.ensemble import RandomForestClassifier\n",
    "\n",
    "clf = RandomForestClassifier(n_jobs=-1)\n",
    "\n",
    "param_grid = {\n",
    "    'min_samples_split': [5, 10, 15], \n",
    "    'n_estimators' : [100, 300],\n",
    "    'max_depth': [15, 25, 35],\n",
    "    'max_features': [10, 20, 30]\n",
    "}\n",
    "\n",
    "scorers = {\n",
    "    'average_precision_score': make_scorer(average_precision_score),\n",
    "    'precision_score': make_scorer(precision_score),\n",
    "    'recall_score': make_scorer(recall_score),\n",
    "    'accuracy_score': make_scorer(accuracy_score)\n",
    "}\n",
    "# Tunning with grid\n",
    "grid_search_clf = grid_search_wrapper(refit_score='average_precision_score')"
   ]
  },
  {
   "cell_type": "raw",
   "metadata": {},
   "source": [
    "results = pd.DataFrame(grid_search_clf.cv_results_)\n",
    "results = results.sort_values(by='mean_test_average_precision_score', ascending=False)\n",
    "results[['mean_test_average_precision_score', 'mean_test_precision_score', 'mean_test_recall_score', 'mean_test_accuracy_score', 'param_max_depth', 'param_max_features', 'param_min_samples_split', 'param_n_estimators']].round(3).head()\n"
   ]
  },
  {
   "cell_type": "markdown",
   "metadata": {},
   "source": [
    "# New attempt at Cross Validation (12/08/2020)"
   ]
  },
  {
   "cell_type": "raw",
   "metadata": {},
   "source": [
    "from sklearn.model_selection import cross_validate\n",
    "from sklearn.model_selection import StratifiedKFold\n",
    "from sklearn.metrics import make_scorer\n",
    "from sklearn.metrics import roc_curve, precision_recall_curve, auc\n",
    "from sklearn.metrics import recall_score, accuracy_score, precision_score\n",
    "from sklearn.metrics import confusion_matrix, average_precision_score, f1_score\n",
    "from imblearn.pipeline import Pipeline\n",
    "from sklearn.ensemble import RandomForestClassifier\n",
    "from imblearn.over_sampling import SMOTE\n",
    "from xgboost import XGBClassifier\n",
    "\n",
    "# Define a pipeline\n",
    "resample = SMOTE(random_state=123)\n",
    "clf = RandomForestClassifier(random_state=123, n_estimators=100, max_samples=0.5)\n",
    "#clf = XGBClassifier(random_state=42, max_depth=5)\n",
    "pipeline = Pipeline(steps=[('resample', resample), ('clf', clf)])\n",
    "scorers = {\n",
    "    'average_precision_score': make_scorer(average_precision_score),\n",
    "    'f1_score': make_scorer(f1_score),\n",
    "    'precision_score': make_scorer(precision_score),\n",
    "    'recall_score': make_scorer(recall_score),\n",
    "    'accuracy_score': make_scorer(accuracy_score)\n",
    "    }\n",
    "cv = StratifiedKFold(n_splits=5)\n",
    "scores = cross_validate(pipeline, X, y, scoring=scorers,\n",
    "                        cv=cv, return_train_score=False)\n",
    "sorted(scores.keys())\n",
    "for key in scores:\n",
    "    print(\"avg. {}: %0.2f (+/- %0.2f)\".format(key) % (scores[key].mean(), scores[key].std()*2))"
   ]
  },
  {
   "cell_type": "markdown",
   "metadata": {},
   "source": [
    "## nueva funcion con probabilidad"
   ]
  },
  {
   "cell_type": "raw",
   "metadata": {},
   "source": [
    "from sklearn.model_selection import cross_validate\n",
    "from sklearn.model_selection import StratifiedKFold\n",
    "from sklearn.metrics import make_scorer\n",
    "from sklearn.metrics import roc_curve, precision_recall_curve, auc\n",
    "from sklearn.metrics import recall_score, accuracy_score, precision_score\n",
    "from sklearn.metrics import confusion_matrix, average_precision_score, f1_score\n",
    "from imblearn.pipeline import Pipeline\n",
    "from sklearn.ensemble import RandomForestClassifier\n",
    "from imblearn.over_sampling import SMOTE\n",
    "\n",
    "# Define a pipeline\n",
    "resample = SMOTE(random_state=123)\n",
    "clf = RandomForestClassifier(random_state=123, n_estimators=300, max_samples=0.5)\n",
    "pipeline = Pipeline(steps=[('resample', resample), ('clf', clf)])\n",
    "\n",
    "# dict for scores\n",
    "metrics = ['average_precision_score', 'f1_score', 'precision_score', 'recall_score', 'accuracy_score']\n",
    "scores = {key: np.empty(0) for key in metrics}\n",
    "\n",
    "cv = StratifiedKFold(n_splits=5)\n",
    "for train, test in cv.split(X, y):\n",
    "    fit_model = pipeline.fit(X.iloc[train], y.iloc[train])\n",
    "    # calculate metrics with predicted classses\n",
    "    y_pred = pipeline.predict(X.iloc[test])\n",
    "    y_true = y.iloc[test]   \n",
    "    avg_prec = average_precision_score(y_true, y_pred)\n",
    "    f1 = f1_score(y_true, y_pred)\n",
    "    pre = precision_score(y_true, y_pred)\n",
    "    rec = recall_score(y_true, y_pred)\n",
    "    acc = accuracy_score(y_true, y_pred)\n",
    "    lst = [avg_prec, f1, pre, rec, acc]\n",
    "    for metric, score in zip(scores, lst):\n",
    "        scores[metric] = np.append(scores[metric], score)\n",
    "\n",
    "sorted(scores.keys())\n",
    "for metric in scores:\n",
    "    print(\"avg. {}: %0.2f (+/- %0.2f)\".format(metric) % (scores[metric].mean(), scores[metric].std()*2))"
   ]
  },
  {
   "cell_type": "markdown",
   "metadata": {},
   "source": [
    "# CROSS VALIDATION"
   ]
  },
  {
   "cell_type": "raw",
   "metadata": {},
   "source": [
    "# Random Forest evaluated on dataset with SMOTE resampling\n",
    "import numpy as np\n",
    "from sklearn.model_selection import StratifiedKFold\n",
    "from sklearn.ensemble import RandomForestClassifier\n",
    "from imblearn.pipeline import Pipeline\n",
    "from imblearn.over_sampling import SMOTE\n",
    "from sklearn.metrics import precision_recall_curve, auc, roc_curve\n",
    "from sklearn.metrics import plot_precision_recall_curve\n",
    "\n",
    "# define pipeline\n",
    "clf = RandomForestClassifier()\n",
    "over = SMOTE(k_neighbors=5)\n",
    "steps = [('over', over), ('clf', clf)]\n",
    "pipeline = Pipeline(steps=steps)\n",
    "\n",
    "# 5 fold Cross validation\n",
    "cv = StratifiedKFold(n_splits=5)\n",
    "mean_tpr = 0.0\n",
    "mean_fpr = np.linspace(0, 1, 100)\n",
    "for train, test in cv.split(X, y):\n",
    "    fit_model = pipeline.fit(X.iloc[train], y.iloc[train])\n",
    "    probs = pipeline.predict_proba(X.iloc[test])[:,1]\n",
    "    fpr, tpr, thresholds = roc_curve(y.iloc[test], probs)\n",
    "    mean_tpr += np.interp(mean_fpr, fpr, tpr)\n",
    "    mean_tpr[0] = 0.0\n",
    "    roc_auc = auc(fpr, tpr)\n",
    "\n",
    "mean_tpr /= cv.get_n_splits(X, y)\n",
    "mean_tpr[-1] = 1.0\n",
    "mean_auc = auc(mean_fpr, mean_tpr)\n",
    "\n",
    "print('Mean ROC AUC: %.3f' % np.mean(mean_auc))\n",
    "print('Mean Recall: %.3f' % np.mean(mean_tpr))"
   ]
  },
  {
   "cell_type": "markdown",
   "metadata": {},
   "source": [
    "## Cross Validation - Random Forest"
   ]
  },
  {
   "cell_type": "markdown",
   "metadata": {},
   "source": [
    "### Random Forest with CV in imbalanced data"
   ]
  },
  {
   "cell_type": "raw",
   "metadata": {},
   "source": [
    "# Random Forest evaluated on imbalanced dataset\n",
    "from numpy import mean\n",
    "from sklearn.model_selection import cross_val_score\n",
    "from sklearn.model_selection import RepeatedStratifiedKFold\n",
    "from sklearn.ensemble import RandomForestClassifier\n",
    "\n",
    "# define model\n",
    "model = RandomForestClassifier()\n",
    "# evaluate pipeline\n",
    "cv = RepeatedStratifiedKFold(n_splits=5, n_repeats=1, random_state=123)\n",
    "scores = cross_val_score(model, X, y, scoring='roc_auc', cv=cv, n_jobs=-1)\n",
    "print('Mean ROC AUC: %.3f' % mean(scores))"
   ]
  },
  {
   "cell_type": "markdown",
   "metadata": {},
   "source": [
    "### Random Forest with CV in data balanced with SMOTE"
   ]
  },
  {
   "cell_type": "raw",
   "metadata": {},
   "source": [
    "# Random Forest evaluated on dataset with SMOTE resampling\n",
    "from numpy import mean\n",
    "from sklearn.model_selection import cross_val_score\n",
    "from sklearn.model_selection import RepeatedStratifiedKFold\n",
    "from sklearn.ensemble import RandomForestClassifier\n",
    "from imblearn.pipeline import Pipeline\n",
    "from imblearn.over_sampling import SMOTE\n",
    "\n",
    "# define pipeline\n",
    "model = RandomForestClassifier()\n",
    "over = SMOTE(k_neighbors=5)\n",
    "steps = [('over', over), ('model', model)]\n",
    "pipeline = Pipeline(steps=steps)\n",
    "\n",
    "# evaluate pipeline\n",
    "cv = RepeatedStratifiedKFold(n_splits=5, n_repeats=3, random_state=321)\n",
    "scores = cross_val_score(pipeline, X, y, scoring='roc_auc', cv=cv, n_jobs=-1)\n",
    "print('Mean ROC AUC: %.3f' % mean(scores))"
   ]
  },
  {
   "cell_type": "markdown",
   "metadata": {},
   "source": [
    "### Random Forest with CV in data balanced with SMOTE+ENN"
   ]
  },
  {
   "cell_type": "raw",
   "metadata": {},
   "source": [
    "# Random Forest evaluated on dataset with SMOTE+ENN resampling\n",
    "from numpy import mean\n",
    "from sklearn.model_selection import cross_val_score\n",
    "from sklearn.model_selection import RepeatedStratifiedKFold\n",
    "from sklearn.ensemble import RandomForestClassifier\n",
    "from imblearn.pipeline import Pipeline\n",
    "from imblearn.combine import SMOTEENN\n",
    "\n",
    "# define pipeline\n",
    "model = RandomForestClassifier()\n",
    "over = SMOTEENN(random_state=123)\n",
    "steps = [('over', over), ('model', model)]\n",
    "pipeline = Pipeline(steps=steps)\n",
    "# evaluate pipeline\n",
    "cv = RepeatedStratifiedKFold(n_splits=5, n_repeats=3, random_state=123)\n",
    "scores = cross_val_score(pipeline, X, y, scoring='roc_auc', cv=cv, n_jobs=-1)\n",
    "print('Mean ROC AUC: %.3f' % mean(scores))"
   ]
  },
  {
   "cell_type": "markdown",
   "metadata": {},
   "source": [
    "## Cross Validation - SVM"
   ]
  },
  {
   "cell_type": "raw",
   "metadata": {},
   "source": [
    "# SVM evaluated on imbalanced dataset\n",
    "from numpy import mean\n",
    "from sklearn.model_selection import cross_val_score\n",
    "from sklearn.model_selection import RepeatedStratifiedKFold\n",
    "from sklearn.svm import LinearSVC\n",
    "\n",
    "# define model\n",
    "model = LinearSVC(random_state=123)\n",
    "\n",
    "# evaluate pipeline\n",
    "cv = RepeatedStratifiedKFold(n_splits=5, n_repeats=1, random_state=123)\n",
    "scores = cross_val_score(model, X, y, scoring='roc_auc', cv=cv, n_jobs=-1)\n",
    "print('Mean ROC AUC: %.3f' % mean(scores))"
   ]
  },
  {
   "cell_type": "markdown",
   "metadata": {},
   "source": [
    "## Cross Validation - XGBoost"
   ]
  },
  {
   "cell_type": "raw",
   "metadata": {},
   "source": [
    "# XGBoost evaluated on imbalanced dataset\n",
    "from numpy import mean\n",
    "from sklearn.model_selection import cross_val_score\n",
    "from sklearn.model_selection import RepeatedStratifiedKFold\n",
    "from xgboost import XGBClassifier\n",
    "\n",
    "# define model\n",
    "model = XGBClassifier(random_state=123)\n",
    "\n",
    "# evaluate pipeline\n",
    "cv = RepeatedStratifiedKFold(n_splits=5, n_repeats=1, random_state=123)\n",
    "scores = cross_val_score(model, X, y, scoring='roc_auc', cv=cv, n_jobs=-1)\n",
    "print('Mean ROC AUC: %.3f' % mean(scores))"
   ]
  },
  {
   "cell_type": "markdown",
   "metadata": {},
   "source": [
    "# 2. BALANCE DATASETS"
   ]
  },
  {
   "cell_type": "markdown",
   "metadata": {},
   "source": [
    "### a. SMOTE"
   ]
  },
  {
   "cell_type": "raw",
   "metadata": {},
   "source": [
    "from imblearn.over_sampling import SMOTE\n",
    "\n",
    "# Resample imbalanced dataset with SMOTE\n",
    "smote = SMOTE(random_state=123)\n",
    "X_smote, y_smote = smote.fit_resample(X_train, y_train)\n",
    "# summarize the new class distribution\n",
    "counter = Counter(y_smote)\n",
    "print(counter)\n",
    "print('ratio:', round(counter[0]/counter[1], 1), ' stay to 1.0 drop')"
   ]
  },
  {
   "cell_type": "markdown",
   "metadata": {},
   "source": [
    "### b. SMOTE + ENN"
   ]
  },
  {
   "cell_type": "raw",
   "metadata": {},
   "source": [
    "from imblearn.combine import SMOTEENN\n",
    "\n",
    "# Resample imbalanced dataset with SMOTE + ENN\n",
    "smenn = SMOTEENN(random_state=123)\n",
    "X_smenn, y_smenn = smenn.fit_sample(X_train, y_train)\n",
    "# summarize class distribution after balance\n",
    "counter = Counter(y_smenn)\n",
    "print(counter)\n",
    "print('ratio:', round(counter[0]/counter[1], 1), ' stay to 1.0 drop')"
   ]
  },
  {
   "cell_type": "markdown",
   "metadata": {},
   "source": [
    "### c. SMOTE + Tomek Links"
   ]
  },
  {
   "cell_type": "raw",
   "metadata": {},
   "source": [
    "from imblearn.combine import SMOTETomek\n",
    "\n",
    "# Resample imbalanced dataset with SMOTE + Tomek\n",
    "smtom = SMOTETomek(random_state=123)\n",
    "X_smtom, y_smtom = smtom.fit_sample(X_train, y_train)\n",
    "# summarize class distribution after balance\n",
    "counter = Counter(y_smtom)\n",
    "print(counter)\n",
    "print('ratio:', round(counter[0]/counter[1], 1), ' stay to 1.0 drop')"
   ]
  },
  {
   "cell_type": "markdown",
   "metadata": {},
   "source": [
    "# Function to evaluate results"
   ]
  },
  {
   "cell_type": "raw",
   "metadata": {},
   "source": [
    "from sklearn.metrics import precision_recall_curve, auc, roc_curve\n",
    "from sklearn.metrics import plot_precision_recall_curve\n",
    "\n",
    "# function to load the dataset\n",
    "def get_model_auc(y_test, probs):\n",
    "    # model metrics\n",
    "    precis1, recall1, thresh1 = precision_recall_curve(y_test, probs)\n",
    "    fpr, tpr, thresholds = roc_curve(y_test, probs)\n",
    "    pr_auc_prob = auc(recall1, precis1)\n",
    "    roc_auc_prob = auc(fpr, tpr)\n",
    "    # print results\n",
    "    print('ROC AUC: %.3f' % roc_auc_prob)\n",
    "    print('PR AUC : %.3f' % pr_auc_prob)\n",
    "    # plot PR Curve\n",
    "    disp = plot_precision_recall_curve(fit_model, X_test, y_test)\n",
    "    disp.ax_.set_title('Precision-Recall curve: '\n",
    "                       'PR AUC={0:0.3f}'.format(pr_auc_prob))\n",
    "    return roc_auc_prob, pr_auc_prob"
   ]
  },
  {
   "cell_type": "markdown",
   "metadata": {},
   "source": [
    "### 3.2 Old function for benchmarking with cross-validation SELECTING THRESHOLD"
   ]
  },
  {
   "cell_type": "raw",
   "metadata": {},
   "source": [
    "from sklearn.model_selection import StratifiedKFold\n",
    "from sklearn.metrics import roc_curve, precision_recall_curve, auc\n",
    "from imblearn.pipeline import Pipeline, make_pipeline\n",
    "\n",
    "def bm_resampling():\n",
    "    # Define a pipeline\n",
    "    pipelines = [['{}'.format(sampler[0]), make_pipeline(sampler[1], classifier[1])] for sampler in samplers]\n",
    "    # dict for scores\n",
    "    metrics = ['acc', 'auc_pr', 'auc_roc', 'f1_score', 'f2_score', 'precision', 'recall']\n",
    "    metrics_std = ['acc_sd', 'aucpr_sd', 'aucroc_sd', 'f1_sd', 'f2_sd', 'preci_sd', 'recall_sd']\n",
    "    scores = {key: np.empty(0) for key in metrics}\n",
    "    metrics.extend(metrics_std)\n",
    "    avg_scores = {key: np.empty(0) for key in metrics}\n",
    "    prob_dict = {}\n",
    "    # Fit models \n",
    "    cv = StratifiedKFold(n_splits=5, shuffle= True, random_state=42)\n",
    "    for name, pipeline in pipelines:\n",
    "        print('fitting:', name)\n",
    "        all_probs = np.zeros(len(X)) # array to store probabilities for PR plot\n",
    "        # Cross Validation\n",
    "        for train, test in cv.split(X, y):\n",
    "            fit_model = pipeline.fit(X.iloc[train], y.iloc[train])\n",
    "            # calculate metrics with predicted probabilities\n",
    "            y_true = y.iloc[test]\n",
    "            probs = pipeline.predict_proba(X.iloc[test])[:,1]\n",
    "            all_probs[test] = probs\n",
    "            precisions, recalls, thresholds = precision_recall_curve(y_true, probs)\n",
    "            pr_auc = auc(recalls, precisions)\n",
    "            bt_thresh, bt_f1, bt_f2, bt_tpr, bt_ppv = metrics_bestf2(precisions, recalls, thresholds)\n",
    "            correct = (probs > bt_thresh).astype(int) == y_true\n",
    "            acc = sum(correct==1)/len(y)\n",
    "            fpr, tpr, thresholds_roc = roc_curve(y_true, probs)\n",
    "            roc_auc = auc(fpr, tpr)\n",
    "            score_lst = [acc, pr_auc, roc_auc, bt_f1, bt_f2, bt_ppv, bt_tpr]\n",
    "            for metric, score in zip(scores, score_lst):\n",
    "                scores[metric] = np.append(scores[metric], score)\n",
    "        for metric, std in zip(scores, metrics_std):\n",
    "            avg_scores[metric] = np.append(avg_scores[metric], scores[metric].mean())\n",
    "            avg_scores[std] = np.append(avg_scores[std], scores[metric].std())\n",
    "        prob_dict[name] = all_probs\n",
    "    # Print results\n",
    "    df = pd.DataFrame(data=avg_scores, index=[k[0] for k in samplers])\n",
    "    return df, prob_dict"
   ]
  },
  {
   "cell_type": "raw",
   "metadata": {},
   "source": [
    "# Function V3.0\n",
    "from sklearn.model_selection import StratifiedKFold, cross_validate\n",
    "from sklearn.metrics import roc_curve, precision_recall_curve, auc, roc_auc_score\n",
    "from sklearn.metrics import recall_score, accuracy_score, precision_score, f1_score, fbeta_score\n",
    "from sklearn.metrics import make_scorer, confusion_matrix, average_precision_score\n",
    "from imblearn.pipeline import Pipeline, make_pipeline\n",
    "\n",
    "def bm_resamp_models():\n",
    "    # Define a pipeline\n",
    "    pipelines = [['{}'.format(sampler[0]), make_pipeline(sampler[1], classifier[1])] for sampler in samplers]\n",
    "    # Define scorers\n",
    "    scorers = {\n",
    "        'accuracy_score': make_scorer(accuracy_score),\n",
    "        'avg_precision': make_scorer(average_precision_score),\n",
    "        'roc_auc': make_scorer(roc_auc_score),\n",
    "        'f1_score': make_scorer(f1_score),\n",
    "        'f2_score': make_scorer(fbeta_score, beta=2),\n",
    "        'precision': make_scorer(precision_score),\n",
    "        'recall': make_scorer(recall_score),\n",
    "    }\n",
    "    cv = StratifiedKFold(n_splits=5, shuffle= True, random_state=42)\n",
    "    # loop for every resampling method\n",
    "    for name, pipeline in pipelines:\n",
    "        print('fitting:', name)\n",
    "        scores = cross_validate(pipeline, X, y, scoring=scorers,\n",
    "                            cv=cv, return_train_score=False)\n",
    "#        # define dict for results\n",
    "#        metrics = [key for key in scores]\n",
    "#        metrics_std = [key + '_std' for key in scores]\n",
    "#        metrics.extend(metrics_std)\n",
    "#        results = {key: np.empty(0) for key in metrics}\n",
    "\n",
    "    for key, std in zip(scores, metrics_std):\n",
    "        results[key] = np.append(results[key], scores[key].mean())\n",
    "        results[std] = np.append(results[std], scores[key].std())\n",
    "    df = pd.DataFrame(data=avg_scores, index=[k[0] for k in samplers])\n",
    "    return df"
   ]
  },
  {
   "cell_type": "markdown",
   "metadata": {},
   "source": [
    "# FEATURE SELECTION"
   ]
  },
  {
   "cell_type": "markdown",
   "metadata": {},
   "source": [
    "### Recursive feature elimination with cross-validation\n",
    "the results gave 64 out of 65 variables as the optimum"
   ]
  },
  {
   "cell_type": "raw",
   "metadata": {},
   "source": [
    "# Feature selection with Recursive feature elimination with cv\n",
    "print(__doc__)\n",
    "\n",
    "import matplotlib.pyplot as plt\n",
    "from sklearn.ensemble import RandomForestClassifier\n",
    "from sklearn.model_selection import StratifiedKFold\n",
    "from sklearn.feature_selection import RFECV\n",
    "from sklearn.datasets import make_classification\n",
    "\n",
    "# Create the RFE object and compute a cross-validated score.\n",
    "model = RandomForestClassifier(n_estimators=10, random_state=123)\n",
    "\n",
    "# Recursive feature elimination with cross-validation based on Average Precision\n",
    "rfecv = RFECV(estimator=model, step=1, cv=StratifiedKFold(2), scoring='average_precision')\n",
    "rfecv.fit(X, y)\n",
    "\n",
    "print(\"Optimal number of features : %d\" % rfecv.n_features_)\n",
    "\n",
    "# Plot number of features VS. cross-validation scores\n",
    "plt.figure()\n",
    "plt.xlabel(\"Number of features selected\")\n",
    "plt.ylabel(\"Avg. Precision\")\n",
    "plt.plot(range(1, len(rfecv.grid_scores_) + 1), rfecv.grid_scores_)\n",
    "plt.show()"
   ]
  },
  {
   "cell_type": "raw",
   "metadata": {
    "scrolled": true
   },
   "source": [
    "#rfecv.n_features_\n",
    "#rfecv.ranking_\n",
    "\n",
    "from itertools import compress\n",
    "\n",
    "selected_bool = ~rfecv.support_\n",
    "column_names = list(X.columns.values)\n",
    "selec_feat = list(compress(column_names, selected_bool))\n",
    "print(selec_feat)"
   ]
  },
  {
   "cell_type": "markdown",
   "metadata": {},
   "source": [
    "### Feature selection too"
   ]
  },
  {
   "cell_type": "raw",
   "metadata": {},
   "source": [
    "import numpy as np\n",
    "import pandas as pd\n",
    "\n",
    "# Import data\n",
    "df = pd.read_csv('all_data_onehot.csv')\n",
    "# Make toy dataset\n",
    "df = df.sample(frac =.20)\n",
    "y = df['withdraw']\n",
    "X_all = df.iloc[:, 1:]\n",
    "# see results\n",
    "print(len(X_all))\n",
    "print(len(y))"
   ]
  },
  {
   "cell_type": "raw",
   "metadata": {},
   "source": [
    "X = X_all[['stud.com.ive','hs.nem.nem', 'inst.type.university', 'inst.type.cft', \\\n",
    "           'inst.type.ip', 'prog.len', 'hs.nse', 'prog.tuition', 'hs.attend.avg', 'hs.simce.avg']]"
   ]
  },
  {
   "cell_type": "raw",
   "metadata": {},
   "source": [
    "print(X_all.info())"
   ]
  },
  {
   "cell_type": "raw",
   "metadata": {},
   "source": [
    "# Random Forest evaluated on imbalanced dataset\n",
    "from numpy import mean\n",
    "from sklearn.model_selection import cross_val_score\n",
    "from sklearn.model_selection import RepeatedStratifiedKFold\n",
    "from sklearn.ensemble import RandomForestClassifier\n",
    "\n",
    "# define model\n",
    "model = RandomForestClassifier()\n",
    "# evaluate pipeline\n",
    "cv = RepeatedStratifiedKFold(n_splits=5, n_repeats=1, random_state=123)\n",
    "scores = cross_val_score(model, X, y, scoring='roc_auc', cv=cv, n_jobs=-1)\n",
    "print('Mean ROC AUC: %.3f' % mean(scores))"
   ]
  },
  {
   "cell_type": "raw",
   "metadata": {},
   "source": [
    "df = pd.read_csv('all_data_categorical.csv')\n",
    "print(df.info())"
   ]
  },
  {
   "cell_type": "raw",
   "metadata": {},
   "source": [
    "# function to load the dataset\n",
    "def load_dataset(filename):\n",
    "    data = pd.read_csv(filename)\n",
    "    # retrieve numpy array\n",
    "    dataset = data.values\n",
    "    # split into input (X) and output (y) variables\n",
    "    X = dataset[:, 1:]\n",
    "    y = dataset[:, 0]\n",
    "    # format all fields as string\n",
    "    X = X.astype(str)\n",
    "    return X, y"
   ]
  },
  {
   "cell_type": "raw",
   "metadata": {},
   "source": [
    "# function to prepare input data\n",
    "def prepare_inputs(X_train, X_test):\n",
    "    oe = OrdinalEncoder()\n",
    "    oe.fit(X_train)\n",
    "    X_train_enc = oe.transform(X_train)\n",
    "    X_test_enc = oe.transform(X_test)\n",
    "    return X_train_enc, X_test_enc"
   ]
  },
  {
   "cell_type": "raw",
   "metadata": {},
   "source": [
    "# function to prepare target\n",
    "def prepare_targets(y_train, y_test):\n",
    "    le = LabelEncoder()\n",
    "    le.fit(y_train)\n",
    "    y_train_enc = le.transform(y_train)\n",
    "    y_test_enc = le.transform(y_test)\n",
    "    return y_train_enc, y_test_enc"
   ]
  },
  {
   "cell_type": "raw",
   "metadata": {},
   "source": [
    "import numpy as np\n",
    "import pandas as pd\n",
    "from sklearn.model_selection import train_test_split\n",
    "from sklearn.preprocessing import LabelEncoder\n",
    "from sklearn.preprocessing import OrdinalEncoder\n",
    "\n",
    "# load the dataset\n",
    "X, y = load_dataset('all_data_categorical.csv')\n",
    "# split into train and test sets\n",
    "X_train, X_test, y_train, y_test = train_test_split(X, y, test_size=0.2, random_state=1)\n",
    "# prepare input data\n",
    "X_train_enc, X_test_enc = prepare_inputs(X_train, X_test)\n",
    "# prepare output data\n",
    "y_train_enc, y_test_enc = prepare_targets(y_train, y_test)"
   ]
  },
  {
   "cell_type": "markdown",
   "metadata": {},
   "source": [
    "# Functions to get F1 and F2 scores"
   ]
  },
  {
   "cell_type": "raw",
   "metadata": {},
   "source": [
    "# Functions to calculate F1 and F2 scores ignoring errors (divide by 0)\n",
    "def f1_noerror(precision, recall):\n",
    "    nz = (precision + recall) != 0\n",
    "    f1 = np.array([0.0] * len(precision))\n",
    "    f1[nz] = 2 * (precision[nz] * recall[nz]) / (precision[nz] + recall[nz])\n",
    "    return f1\n",
    "\n",
    "def f2_noerror(precision, recall):\n",
    "    nz = (precision + recall) != 0\n",
    "    f2 = np.array([0.0] * len(precision))\n",
    "    f2[nz] = (5 * precision[nz] * recall[nz]) / (4 * precision[nz] + recall[nz])\n",
    "    return f2\n",
    "\n",
    "# Function to get scores based on best F2-score\n",
    "def metrics_bestf2(precision_arr, recall_arr, threshold_arr):\n",
    "    f2_arr = f2_noerror(precision_arr, recall_arr)\n",
    "    f1_arr = f1_noerror(precision_arr, recall_arr)\n",
    "    ix = np.argmax(f2_arr)\n",
    "    bt_thresh = threshold_arr[ix]\n",
    "    bt_f1 = f1_arr[ix]\n",
    "    bt_f2 = f2_arr[ix]\n",
    "    bt_recall = recall_arr[ix]\n",
    "    bt_precis = precision_arr[ix]\n",
    "    return bt_thresh, bt_f1, bt_f2, bt_recall, bt_precis\n",
    "\n",
    "# Function to get scores based on best F1-score\n",
    "def metrics_bestf1(precision_arr, recall_arr, threshold_arr):\n",
    "    f2_arr = f2_noerror(precision_arr, recall_arr)\n",
    "    f1_arr = f1_noerror(precision_arr, recall_arr)\n",
    "    ix = np.argmax(f1_arr)\n",
    "    bt_thresh = threshold_arr[ix]\n",
    "    bt_f1 = f1_arr[ix]\n",
    "    bt_f2 = f2_arr[ix]\n",
    "    bt_recall = recall_arr[ix]\n",
    "    bt_precis = precision_arr[ix]\n",
    "    return bt_thresh, bt_f1, bt_f2, bt_recall, bt_precis"
   ]
  }
 ],
 "metadata": {
  "kernelspec": {
   "display_name": "Python 3",
   "language": "python",
   "name": "python3"
  },
  "language_info": {
   "codemirror_mode": {
    "name": "ipython",
    "version": 3
   },
   "file_extension": ".py",
   "mimetype": "text/x-python",
   "name": "python",
   "nbconvert_exporter": "python",
   "pygments_lexer": "ipython3",
   "version": "3.7.3"
  }
 },
 "nbformat": 4,
 "nbformat_minor": 4
}
